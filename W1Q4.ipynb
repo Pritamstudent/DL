{
 "cells": [
  {
   "cell_type": "code",
   "execution_count": 1,
   "id": "57ffb7ef",
   "metadata": {},
   "outputs": [],
   "source": [
    "import numpy as np\n",
    "import pandas as pd\n",
    "from sklearn.datasets import load_iris\n",
    "from sklearn.model_selection import train_test_split\n",
    "\n",
    "class Perceptron:\n",
    "    \n",
    "    def __init__(self, learning_rate, epochs):\n",
    "        self.weights = None\n",
    "        self.bias = None\n",
    "        self.learning_rate = learning_rate\n",
    "        self.epochs = epochs\n",
    "        \n",
    "    def activation(self, z):\n",
    "        return np.heaviside(z, 0) # Heaviside step function as activation\n",
    "    \n",
    "    def fit(self, X, y):\n",
    "        n_samples, n_features = X.shape\n",
    "        \n",
    "        # Initializing weights and bias\n",
    "        self.weights = np.zeros(n_features)\n",
    "        self.bias = 0\n",
    "        \n",
    "        # Iterating until the number of epochs\n",
    "        for epoch in range(self.epochs):\n",
    "            # Traversing through the entire training set\n",
    "            for i in range(n_samples):\n",
    "                z = np.dot(X[i], self.weights) + self.bias # Finding the dot product and adding the bias\n",
    "                y_pred = self.activation(z) # Passing through an activation function\n",
    "                \n",
    "                #Updating weights and bias\n",
    "                self.weights = self.weights + self.learning_rate * (y[i] - y_pred) * X[i]\n",
    "                self.bias = self.bias + self.learning_rate * (y[i] - y_pred)\n",
    "                \n",
    "        return self.weights, self.bias    \n",
    "    \n",
    "    def predict(self, X):\n",
    "        z = np.dot(X, self.weights) + self.bias\n",
    "        return self.activation(z)\n",
    "\n",
    "\n"
   ]
  },
  {
   "cell_type": "code",
   "execution_count": 2,
   "id": "60a92fc3",
   "metadata": {},
   "outputs": [],
   "source": [
    "# Generate synthetic dataset\n",
    "df_length = 500 \n",
    "df = pd.DataFrame(index=range(df_length))\n",
    "\n",
    "my_list = [np.random.randint(30, 70, size=(500, 1))]\n",
    "my_list1 = [np.random.randint(50000, 500000, size=(500, 1))]\n",
    "my_list2 = [np.random.randint(2, 10, size=(500, 1))]\n",
    "my_list3 = [np.random.randint(0, 2, size=(500, 1))]\n",
    "\n",
    "col1_values = np.random.choice(my_list[0].flatten(), df_length)\n",
    "col2_values = np.random.choice(my_list1[0].flatten(), df_length)\n",
    "col3_values = np.random.choice(my_list2[0].flatten(), df_length)\n",
    "col4_values = np.random.choice(my_list3[0].flatten(), df_length)\n",
    "\n",
    "df['Col1'] = col1_values\n",
    "df['Col2'] = col2_values\n",
    "df['Col3'] = col3_values\n",
    "df['Col4'] = col4_values\n",
    "\n",
    "# Split dataset into features and target\n",
    "X = df.drop('Col4', axis=1)\n",
    "Y = df['Col4']\n",
    "\n",
    "# Split data into train and test sets\n",
    "X_train, X_test, Y_train, Y_test = train_test_split(X, Y, test_size=0.1, stratify=Y, random_state=1)\n"
   ]
  },
  {
   "cell_type": "code",
   "execution_count": 3,
   "id": "e1c022ef",
   "metadata": {},
   "outputs": [
    {
     "name": "stdout",
     "output_type": "stream",
     "text": [
      "[0. 0. 0. 0. 0. 0. 0. 0. 0. 0. 0. 0. 0. 0. 0. 0. 0. 0. 0. 0. 0. 0. 0. 0.\n",
      " 0. 0. 0. 0. 0. 0. 0. 0. 0. 0. 0. 0. 0. 0. 0. 0. 0. 0. 0. 0. 0. 0. 0. 0.\n",
      " 0. 0.]\n"
     ]
    }
   ],
   "source": [
    "# Instantiate and train Perceptron model\n",
    "perceptron = Perceptron(0.001, 100)\n",
    "perceptron.fit(X_train.to_numpy(), Y_train.to_numpy())\n",
    "\n",
    "# Make predictions on test data\n",
    "pred = perceptron.predict(X_test.to_numpy())\n",
    "print(pred)\n"
   ]
  },
  {
   "cell_type": "code",
   "execution_count": 4,
   "id": "341650cf",
   "metadata": {},
   "outputs": [
    {
     "data": {
      "text/plain": [
       "0.46"
      ]
     },
     "execution_count": 4,
     "metadata": {},
     "output_type": "execute_result"
    }
   ],
   "source": [
    "from sklearn.metrics import accuracy_score\n",
    "\n",
    "accuracy_score(pred, Y_test)"
   ]
  },
  {
   "cell_type": "code",
   "execution_count": null,
   "id": "d3a3ad25",
   "metadata": {},
   "outputs": [],
   "source": []
  }
 ],
 "metadata": {
  "kernelspec": {
   "display_name": "Python 3 (ipykernel)",
   "language": "python",
   "name": "python3"
  },
  "language_info": {
   "codemirror_mode": {
    "name": "ipython",
    "version": 3
   },
   "file_extension": ".py",
   "mimetype": "text/x-python",
   "name": "python",
   "nbconvert_exporter": "python",
   "pygments_lexer": "ipython3",
   "version": "3.10.4"
  }
 },
 "nbformat": 4,
 "nbformat_minor": 5
}
