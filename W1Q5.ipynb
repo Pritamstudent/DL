{
 "cells": [
  {
   "cell_type": "code",
   "execution_count": 1,
   "id": "fd2bf4eb",
   "metadata": {},
   "outputs": [],
   "source": [
    "import numpy as np\n",
    "import pandas as pd\n",
    "from sklearn.datasets import load_iris\n",
    "from sklearn.model_selection import train_test_split\n",
    "\n",
    "class Perceptron:\n",
    "    \n",
    "    def __init__(self, learning_rate, epochs):\n",
    "        self.weights = None\n",
    "        self.bias = None\n",
    "        self.learning_rate = learning_rate\n",
    "        self.epochs = epochs\n",
    "        \n",
    "    def activation(self, z):\n",
    "        return np.heaviside(z, 0) # Heaviside step function as activation\n",
    "    \n",
    "    def fit(self, X, y):\n",
    "        n_samples, n_features = X.shape\n",
    "        \n",
    "        # Initializing weights and bias\n",
    "        self.weights = np.zeros(n_features)\n",
    "        self.bias = 0\n",
    "        \n",
    "        # Iterating until the number of epochs\n",
    "        for epoch in range(self.epochs):\n",
    "            # Traversing through the entire training set\n",
    "            for i in range(n_samples):\n",
    "                z = np.dot(X[i], self.weights) + self.bias # Finding the dot product and adding the bias\n",
    "                y_pred = self.activation(z) # Passing through an activation function\n",
    "                \n",
    "                #Updating weights and bias\n",
    "                self.weights = self.weights + self.learning_rate * (y[i] - y_pred) * X[i]\n",
    "                self.bias = self.bias + self.learning_rate * (y[i] - y_pred)\n",
    "                \n",
    "        return self.weights, self.bias    \n",
    "    \n",
    "    def predict(self, X):\n",
    "        z = np.dot(X, self.weights) + self.bias\n",
    "        return self.activation(z)\n",
    "\n",
    "\n"
   ]
  },
  {
   "cell_type": "code",
   "execution_count": 2,
   "id": "85ea5430",
   "metadata": {},
   "outputs": [
    {
     "name": "stdout",
     "output_type": "stream",
     "text": [
      "   X1  X2  Y\n",
      "0   0   0  0\n",
      "1   0   1  0\n",
      "2   1   0  0\n",
      "3   1   1  1\n"
     ]
    }
   ],
   "source": [
    "import numpy as np\n",
    "import pandas as pd\n",
    "from sklearn.model_selection import train_test_split\n",
    "\n",
    "# Define the truth table for the AND logic gate\n",
    "truth_table = pd.DataFrame({\n",
    "    'X1': [0,0,1,1],\n",
    "    'X2': [0,1,0,1],\n",
    "    'Y':  [0, 0,0,1]\n",
    "})\n",
    "\n",
    "\n",
    "data = pd.DataFrame(truth_table)\n",
    "# Shuffle the rows to randomize the dataset\n",
    "data = data.sample(frac=1).reset_index(drop=True)\n",
    "\n",
    "# Display the first few rows of the dataset\n",
    "print(data.head())\n",
    "\n",
    "# Split data into features (X) and target (Y)\n",
    "X = data.drop('Y', axis=1)\n",
    "Y = data['Y']\n",
    "\n"
   ]
  },
  {
   "cell_type": "code",
   "execution_count": 3,
   "id": "7d83fac4",
   "metadata": {},
   "outputs": [
    {
     "data": {
      "text/plain": [
       "(array([0.002, 0.001]), -0.002)"
      ]
     },
     "execution_count": 3,
     "metadata": {},
     "output_type": "execute_result"
    }
   ],
   "source": [
    "# Instantiate and train Perceptron model\n",
    "perceptron = Perceptron(0.001, 100)\n",
    "perceptron.fit(X.to_numpy(), Y.to_numpy())\n",
    "\n",
    "\n"
   ]
  },
  {
   "cell_type": "code",
   "execution_count": 4,
   "id": "5b224d70",
   "metadata": {},
   "outputs": [
    {
     "data": {
      "text/plain": [
       "1.0"
      ]
     },
     "execution_count": 4,
     "metadata": {},
     "output_type": "execute_result"
    }
   ],
   "source": [
    "from sklearn.metrics import accuracy_score\n",
    "\n",
    "# accuracy_score(pred, Y_test)\n",
    "\n",
    "perceptron.predict([1,1])\n"
   ]
  },
  {
   "cell_type": "code",
   "execution_count": 5,
   "id": "0faf5b09",
   "metadata": {},
   "outputs": [
    {
     "name": "stdout",
     "output_type": "stream",
     "text": [
      "   X1  X2  Y\n",
      "0   0   1  1\n",
      "1   0   0  0\n",
      "2   1   1  1\n",
      "3   1   0  1\n"
     ]
    }
   ],
   "source": [
    "import numpy as np\n",
    "import pandas as pd\n",
    "from sklearn.model_selection import train_test_split\n",
    "\n",
    "# Define the truth table for the OR logic gate\n",
    "truth_table = pd.DataFrame({\n",
    "    'X1': [0,0,1,1],\n",
    "    'X2': [0,1,0,1],\n",
    "    \n",
    "    'Y':  [0, 1,1,1]\n",
    "})\n",
    "\n",
    "# Create copies of the truth table to match the desired number of rows\n",
    "# num_rows = 1000\n",
    "data = pd.DataFrame(truth_table)\n",
    "# Shuffle the rows to randomize the dataset\n",
    "data = data.sample(frac=1).reset_index(drop=True)\n",
    "\n",
    "# Display the first few rows of the dataset\n",
    "print(data.head())\n",
    "\n",
    "# Split data into features (X) and target (Y)\n",
    "X = data.drop('Y', axis=1)\n",
    "Y = data['Y']\n",
    "\n"
   ]
  },
  {
   "cell_type": "code",
   "execution_count": 6,
   "id": "be558a60",
   "metadata": {},
   "outputs": [
    {
     "data": {
      "text/plain": [
       "(array([0.001, 0.001]), 0.0)"
      ]
     },
     "execution_count": 6,
     "metadata": {},
     "output_type": "execute_result"
    }
   ],
   "source": [
    "# Instantiate and train Perceptron model\n",
    "perceptron = Perceptron(0.001, 100)\n",
    "perceptron.fit(X.to_numpy(), Y.to_numpy())\n",
    "\n"
   ]
  },
  {
   "cell_type": "code",
   "execution_count": 7,
   "id": "44129819",
   "metadata": {},
   "outputs": [
    {
     "data": {
      "text/plain": [
       "1.0"
      ]
     },
     "execution_count": 7,
     "metadata": {},
     "output_type": "execute_result"
    }
   ],
   "source": [
    "from sklearn.metrics import accuracy_score\n",
    "\n",
    "# accuracy_score(pred, Y_test)\n",
    "\n",
    "perceptron.predict([0,1])\n"
   ]
  },
  {
   "cell_type": "code",
   "execution_count": null,
   "id": "da39ba8f",
   "metadata": {},
   "outputs": [],
   "source": []
  }
 ],
 "metadata": {
  "kernelspec": {
   "display_name": "Python 3 (ipykernel)",
   "language": "python",
   "name": "python3"
  },
  "language_info": {
   "codemirror_mode": {
    "name": "ipython",
    "version": 3
   },
   "file_extension": ".py",
   "mimetype": "text/x-python",
   "name": "python",
   "nbconvert_exporter": "python",
   "pygments_lexer": "ipython3",
   "version": "3.10.4"
  }
 },
 "nbformat": 4,
 "nbformat_minor": 5
}
