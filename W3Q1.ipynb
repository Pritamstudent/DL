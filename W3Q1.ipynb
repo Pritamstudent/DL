{
 "cells": [
  {
   "cell_type": "code",
   "execution_count": 1,
   "metadata": {},
   "outputs": [
    {
     "name": "stdout",
     "output_type": "stream",
     "text": [
      "Epoch 1/10\n",
      "1563/1563 [==============================] - 52s 32ms/step - loss: 1.4635 - accuracy: 0.4773 - val_loss: 1.2471 - val_accuracy: 0.5578\n",
      "Epoch 2/10\n",
      "1563/1563 [==============================] - 41s 26ms/step - loss: 1.1734 - accuracy: 0.5888 - val_loss: 1.1909 - val_accuracy: 0.5814\n",
      "Epoch 3/10\n",
      "1563/1563 [==============================] - 36s 23ms/step - loss: 1.0573 - accuracy: 0.6304 - val_loss: 1.1404 - val_accuracy: 0.5977\n",
      "Epoch 4/10\n",
      "1563/1563 [==============================] - 36s 23ms/step - loss: 0.9693 - accuracy: 0.6638 - val_loss: 1.1543 - val_accuracy: 0.5960\n",
      "Epoch 5/10\n",
      "1563/1563 [==============================] - 38s 24ms/step - loss: 0.8977 - accuracy: 0.6887 - val_loss: 1.0912 - val_accuracy: 0.6242\n",
      "Epoch 6/10\n",
      "1563/1563 [==============================] - 29s 19ms/step - loss: 0.8399 - accuracy: 0.7071 - val_loss: 1.0640 - val_accuracy: 0.6383\n",
      "Epoch 7/10\n",
      "1563/1563 [==============================] - 30s 19ms/step - loss: 0.7875 - accuracy: 0.7275 - val_loss: 1.1649 - val_accuracy: 0.6183\n",
      "Epoch 8/10\n",
      "1563/1563 [==============================] - 31s 20ms/step - loss: 0.7349 - accuracy: 0.7442 - val_loss: 1.0801 - val_accuracy: 0.6417\n",
      "Epoch 9/10\n",
      "1563/1563 [==============================] - 31s 20ms/step - loss: 0.6900 - accuracy: 0.7609 - val_loss: 1.0757 - val_accuracy: 0.6510\n",
      "Epoch 10/10\n",
      "1563/1563 [==============================] - 35s 23ms/step - loss: 0.6447 - accuracy: 0.7744 - val_loss: 1.1299 - val_accuracy: 0.6382\n",
      "313/313 - 2s - loss: 1.1299 - accuracy: 0.6382 - 2s/epoch - 6ms/step\n",
      "\n",
      "Test accuracy: 0.6381999850273132\n"
     ]
    }
   ],
   "source": [
    "import tensorflow as tf\n",
    "from tensorflow.keras import layers, models\n",
    "\n",
    "\n",
    "\n",
    "(train_images, train_labels), (test_images, test_labels) = tf.keras.datasets.cifar10.load_data()\n",
    "\n",
    "\n",
    "\n",
    "train_images, test_images = train_images / 255.0, test_images / 255.0\n",
    "\n",
    "model = models.Sequential([\n",
    "  \n",
    "    layers.Conv2D(32, (3, 3), activation='relu', input_shape=(32, 32, 3)),\n",
    "    \n",
    "    \n",
    "    layers.MaxPooling2D((2, 2)),\n",
    "    \n",
    "    \n",
    "    layers.Flatten(),\n",
    "    \n",
    "    \n",
    "    layers.Dense(64, activation='relu'),\n",
    "    \n",
    "    \n",
    "    layers.Dense(10)\n",
    "])\n",
    "\n",
    "# Compile the model\n",
    "model.compile(optimizer='adam',\n",
    "              loss=tf.keras.losses.SparseCategoricalCrossentropy(from_logits=True),\n",
    "              metrics=['accuracy'])\n",
    "\n",
    "# Train the model\n",
    "history = model.fit(train_images, train_labels, epochs=10, validation_data=(test_images, test_labels))\n",
    "\n",
    "# Evaluate the model\n",
    "test_loss, test_acc = model.evaluate(test_images,  test_labels, verbose=2)\n",
    "print('\\nTest accuracy:', test_acc)\n"
   ]
  },
  {
   "cell_type": "code",
   "execution_count": null,
   "metadata": {},
   "outputs": [],
   "source": []
  }
 ],
 "metadata": {
  "kernelspec": {
   "display_name": "Python 3",
   "language": "python",
   "name": "python3"
  },
  "language_info": {
   "codemirror_mode": {
    "name": "ipython",
    "version": 3
   },
   "file_extension": ".py",
   "mimetype": "text/x-python",
   "name": "python",
   "nbconvert_exporter": "python",
   "pygments_lexer": "ipython3",
   "version": "3.10.4"
  }
 },
 "nbformat": 4,
 "nbformat_minor": 2
}
