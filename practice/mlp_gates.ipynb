{
 "cells": [
  {
   "cell_type": "code",
   "execution_count": 1,
   "metadata": {},
   "outputs": [],
   "source": [
    "import numpy as np\n",
    "from tensorflow.keras.datasets import mnist\n"
   ]
  },
  {
   "cell_type": "code",
   "execution_count": 2,
   "metadata": {},
   "outputs": [],
   "source": [
    "\n",
    "def sigmoid(x):\n",
    "    return 1 / (1 + np.exp(-x))\n",
    "\n",
    "def softamx(x):\n",
    "    exp_x = np.exp(x - np.max(x, axis = 1, keepdims=True))\n",
    "    return exp_x / np.sum(exp_x, axis = 1)"
   ]
  },
  {
   "cell_type": "code",
   "execution_count": 3,
   "metadata": {},
   "outputs": [],
   "source": [
    "(x_train, y_train), (x_test, y_test) = mnist.load_data()"
   ]
  },
  {
   "cell_type": "code",
   "execution_count": 4,
   "metadata": {},
   "outputs": [],
   "source": [
    "x_train = x_train.astype('float32') / 255.0\n",
    "x_test = x_test.astype('float32') / 255.0\n"
   ]
  },
  {
   "cell_type": "code",
   "execution_count": 5,
   "metadata": {},
   "outputs": [],
   "source": [
    "x_train_flat = x_train.reshape((x_train.shape[0], -1))\n",
    "x_test_flat = x_test.reshape((x_test.shape[0], -1))"
   ]
  },
  {
   "cell_type": "code",
   "execution_count": 6,
   "metadata": {},
   "outputs": [],
   "source": [
    "num_classes =10\n",
    "y_train_onehot = np.eye(num_classes)[y_train]"
   ]
  },
  {
   "cell_type": "code",
   "execution_count": 7,
   "metadata": {},
   "outputs": [],
   "source": [
    "# Hyperparameters\n",
    "learning_rate = 0.1\n",
    "num_epochs = 100\n",
    "batch_size = 128\n",
    "input_size = 784\n",
    "hidden_size = 128"
   ]
  },
  {
   "cell_type": "code",
   "execution_count": 10,
   "metadata": {},
   "outputs": [],
   "source": [
    "np.random.seed(42)\n",
    "W1 = np.random.randn(input_size, hidden_size)\n",
    "b1 = np.zeros(hidden_size)\n",
    "W2 = np.random.randn(hidden_size, num_classes)\n",
    "b2 = np.zeros(num_classes)"
   ]
  },
  {
   "cell_type": "code",
   "execution_count": 11,
   "metadata": {},
   "outputs": [
    {
     "name": "stdout",
     "output_type": "stream",
     "text": [
      "Epoch 1000/10000, Loss: 0.1199\n",
      "Epoch 2000/10000, Loss: 0.0222\n",
      "Epoch 3000/10000, Loss: 0.0075\n",
      "Epoch 4000/10000, Loss: 0.0040\n",
      "Epoch 5000/10000, Loss: 0.0026\n",
      "Epoch 6000/10000, Loss: 0.0019\n",
      "Epoch 7000/10000, Loss: 0.0015\n",
      "Epoch 8000/10000, Loss: 0.0012\n",
      "Epoch 9000/10000, Loss: 0.0010\n",
      "Epoch 10000/10000, Loss: 0.0009\n",
      "NAND Gate Predictions:\n",
      "Input: [0 0], Predicted Output: [[0.99551424]], Expected Output: [1]\n",
      "Input: [0 1], Predicted Output: [[0.9677281]], Expected Output: [1]\n",
      "Input: [1 0], Predicted Output: [[0.9675852]], Expected Output: [1]\n",
      "Input: [1 1], Predicted Output: [[0.03830163]], Expected Output: [0]\n"
     ]
    }
   ],
   "source": [
    "import numpy as np\n",
    "\n",
    "# Define activation functions\n",
    "def sigmoid(x):\n",
    "    return 1 / (1 + np.exp(-x))\n",
    "\n",
    "def sigmoid_derivative(x):\n",
    "    return x * (1 - x)\n",
    "\n",
    "# Define the NAND gate truth table\n",
    "X = np.array([[0, 0], [0, 1], [1, 0], [1, 1]])\n",
    "y = np.array([[1], [1], [1], [0]])\n",
    "\n",
    "# Hyperparameters\n",
    "learning_rate = 0.1\n",
    "num_epochs = 10000\n",
    "input_size = 2\n",
    "hidden_size = 2\n",
    "output_size = 1\n",
    "\n",
    "# Initialize weights and biases\n",
    "np.random.seed(42)\n",
    "W1 = np.random.randn(input_size, hidden_size)\n",
    "b1 = np.zeros((1, hidden_size))\n",
    "W2 = np.random.randn(hidden_size, output_size)\n",
    "b2 = np.zeros((1, output_size))\n",
    "\n",
    "# Training loop\n",
    "for epoch in range(num_epochs):\n",
    "    # Forward pass\n",
    "    z1 = np.dot(X, W1) + b1\n",
    "    a1 = sigmoid(z1)\n",
    "    z2 = np.dot(a1, W2) + b2\n",
    "    a2 = sigmoid(z2)\n",
    "\n",
    "    # Compute the loss (Mean Squared Error)\n",
    "    loss = np.mean((y - a2) ** 2)\n",
    "\n",
    "    # Backpropagation\n",
    "    d_loss_a2 = a2 - y\n",
    "    d_a2_z2 = sigmoid_derivative(a2)\n",
    "    d_loss_z2 = d_loss_a2 * d_a2_z2\n",
    "\n",
    "    d_loss_a1 = np.dot(d_loss_z2, W2.T)\n",
    "    d_a1_z1 = sigmoid_derivative(a1)\n",
    "    d_loss_z1 = d_loss_a1 * d_a1_z1\n",
    "\n",
    "    d_loss_W2 = np.dot(a1.T, d_loss_z2)\n",
    "    d_loss_b2 = np.sum(d_loss_z2, axis=0, keepdims=True)\n",
    "    d_loss_W1 = np.dot(X.T, d_loss_z1)\n",
    "    d_loss_b1 = np.sum(d_loss_z1, axis=0, keepdims=True)\n",
    "\n",
    "    # Update weights and biases\n",
    "    W2 -= learning_rate * d_loss_W2\n",
    "    b2 -= learning_rate * d_loss_b2\n",
    "    W1 -= learning_rate * d_loss_W1\n",
    "    b1 -= learning_rate * d_loss_b1\n",
    "\n",
    "    # Print loss every 1000 epochs\n",
    "    if (epoch + 1) % 1000 == 0:\n",
    "        print(f\"Epoch {epoch+1}/{num_epochs}, Loss: {loss:.4f}\")\n",
    "\n",
    "# Test the trained neural network\n",
    "def predict(x):\n",
    "    z1 = np.dot(x, W1) + b1\n",
    "    a1 = sigmoid(z1)\n",
    "    z2 = np.dot(a1, W2) + b2\n",
    "    a2 = sigmoid(z2)\n",
    "    return a2\n",
    "\n",
    "print(\"NAND Gate Predictions:\")\n",
    "for i in range(len(X)):\n",
    "    print(f\"Input: {X[i]}, Predicted Output: {predict(X[i])}, Expected Output: {y[i]}\")\n"
   ]
  },
  {
   "cell_type": "code",
   "execution_count": null,
   "metadata": {},
   "outputs": [],
   "source": []
  }
 ],
 "metadata": {
  "kernelspec": {
   "display_name": "Python 3",
   "language": "python",
   "name": "python3"
  },
  "language_info": {
   "codemirror_mode": {
    "name": "ipython",
    "version": 3
   },
   "file_extension": ".py",
   "mimetype": "text/x-python",
   "name": "python",
   "nbconvert_exporter": "python",
   "pygments_lexer": "ipython3",
   "version": "3.10.4"
  }
 },
 "nbformat": 4,
 "nbformat_minor": 2
}
