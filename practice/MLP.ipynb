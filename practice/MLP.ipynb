{
 "cells": [
  {
   "cell_type": "code",
   "execution_count": null,
   "metadata": {},
   "outputs": [],
   "source": [
    "import numpy as np\n",
    "\n",
    "class MLP:\n",
    "    def __init__(self, lr = 0.01, n_iters = 1000):\n",
    "        self.lr = lr\n",
    "        self.n_iters = n_iters\n",
    "        self.w = None\n",
    "        self.b = None\n",
    "        self.activation = self._unit_step\n",
    "\n",
    "    def fit(self, X, y):\n",
    "        n_samples, n_features = X.shape\n",
    "        self.w = np.zeros(n_features)\n",
    "        self.b = 0\n",
    "\n",
    "        y_ = np.array([ 1 if i > 0 else 0 for i in y])\n",
    "\n",
    "        for _ in range(self.n_iters):\n",
    "            for idx, x_i in enumerate(X):\n",
    "                linear_op = np.dot(x_i, self.w) +self.b\n",
    "                y_pred = self.activation(linear_op)\n",
    "                update = self.lr *(y_[idx] - y_pred)\n",
    "                self.w += update *x_i\n",
    "                self.b += update\n",
    "\n",
    "\n",
    "    def predict(self, x):\n",
    "        linear_op = np.dot(x, self.w) + self.b\n",
    "        y_pred = self.activation(linear_op)\n",
    "        return y_pred\n",
    "    \n",
    "    def _unit_step(self, x):\n",
    "        return np.where(x >= 0, 1, 0)"
   ]
  }
 ],
 "metadata": {
  "language_info": {
   "name": "python"
  }
 },
 "nbformat": 4,
 "nbformat_minor": 2
}
