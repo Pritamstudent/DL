{
 "cells": [
  {
   "cell_type": "code",
   "execution_count": 5,
   "metadata": {},
   "outputs": [],
   "source": [
    "import numpy as np"
   ]
  },
  {
   "cell_type": "code",
   "execution_count": 9,
   "metadata": {},
   "outputs": [],
   "source": [
    "T =1.0\n",
    "F = 0.0\n",
    "\n",
    "def XOR():\n",
    "    X = [\n",
    "        [F,F],\n",
    "        [F,T],\n",
    "        [T,F],\n",
    "        [T,T],\n",
    "    ]\n",
    "    Y = [\n",
    "        [F],\n",
    "        [T],\n",
    "        [T],\n",
    "        [F],\n",
    "    ]\n",
    "    return X, Y\n",
    "X, Y = XOR()"
   ]
  },
  {
   "cell_type": "code",
   "execution_count": 20,
   "metadata": {},
   "outputs": [],
   "source": [
    "class MyPerceptron:\n",
    "    def __init__ (self, lr= 0.1, iter = 1000):\n",
    "        self.lr = lr\n",
    "        self.epochs = iter\n",
    "        self.weights = None\n",
    "        self.bias = None\n",
    "\n",
    "    def fit(self, X, Y):\n",
    "        self.weights = np.zeros(X.shape[1])\n",
    "        self.bias = 0\n",
    "        for epoch in range(self.epochs):\n",
    "\n",
    "            for i in range(X.shape[0]):\n",
    "\n",
    "                y_pred = self.Step_activ_func(np.dot(self.weights, X[i]) + self.bias)\n",
    "\n",
    "                mae = Y[i] - y_pred\n",
    "                self.weights = self.weights + self.lr * mae * X[i]\n",
    "\n",
    "                self.bias = self.bias +self.lr * mae\n",
    "\n",
    "\n",
    "    def Step_activ_func(self, activation):\n",
    "        return np.where(activation >= 0, 1, 0)\n",
    "    def predict(self, X):\n",
    "        z = np.dot(X, self.weights) + self.bias\n",
    "        return self.Step_activ_func(z)\n"
   ]
  },
  {
   "cell_type": "code",
   "execution_count": 22,
   "metadata": {},
   "outputs": [
    {
     "name": "stdout",
     "output_type": "stream",
     "text": [
      "[1 1 0 0]\n",
      "0.5\n"
     ]
    }
   ],
   "source": [
    "\n",
    "from sklearn.metrics import accuracy_score\n",
    "clf = MyPerceptron()\n",
    "clf.fit(np.array(X), np.array(Y))\n",
    "\n",
    "x_test = [\n",
    "        [F,F],\n",
    "        [F,T],\n",
    "        [T,F],\n",
    "        [T,T],\n",
    "    ]\n",
    "y_test = [\n",
    "        [F],\n",
    "        [T],\n",
    "        [T],\n",
    "        [F],\n",
    "    ]\n",
    "\n",
    "x_test = np.array(x_test)\n",
    "y_test = np.array(y_test)\n",
    "y_pred = clf.predict(x_test)\n",
    "print(y_pred)\n",
    "print(accuracy_score(y_test, y_pred))"
   ]
  },
  {
   "cell_type": "code",
   "execution_count": null,
   "metadata": {},
   "outputs": [],
   "source": []
  },
  {
   "cell_type": "code",
   "execution_count": null,
   "metadata": {},
   "outputs": [],
   "source": []
  },
  {
   "cell_type": "code",
   "execution_count": null,
   "metadata": {},
   "outputs": [],
   "source": []
  }
 ],
 "metadata": {
  "kernelspec": {
   "display_name": "Python 3",
   "language": "python",
   "name": "python3"
  },
  "language_info": {
   "codemirror_mode": {
    "name": "ipython",
    "version": 3
   },
   "file_extension": ".py",
   "mimetype": "text/x-python",
   "name": "python",
   "nbconvert_exporter": "python",
   "pygments_lexer": "ipython3",
   "version": "3.10.4"
  }
 },
 "nbformat": 4,
 "nbformat_minor": 2
}
