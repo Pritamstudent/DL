{
 "cells": [
  {
   "cell_type": "code",
   "execution_count": 1,
   "metadata": {},
   "outputs": [
    {
     "name": "stdout",
     "output_type": "stream",
     "text": [
      "Downloading data from https://www.cs.toronto.edu/~kriz/cifar-10-python.tar.gz\n",
      "170498071/170498071 [==============================] - 32s 0us/step\n"
     ]
    },
    {
     "name": "stderr",
     "output_type": "stream",
     "text": [
      "WARNING:absl:`lr` is deprecated in Keras optimizer, please use `learning_rate` or use the legacy optimizer, e.g.,tf.keras.optimizers.legacy.SGD.\n"
     ]
    },
    {
     "name": "stdout",
     "output_type": "stream",
     "text": [
      "Epoch 1/10\n",
      "313/313 [==============================] - 6s 19ms/step - loss: 2.0022 - accuracy: 0.2864 - val_loss: 1.8893 - val_accuracy: 0.3228\n",
      "Epoch 2/10\n",
      "313/313 [==============================] - 5s 16ms/step - loss: 1.8245 - accuracy: 0.3585 - val_loss: 1.8326 - val_accuracy: 0.3457\n",
      "Epoch 3/10\n",
      "313/313 [==============================] - 5s 15ms/step - loss: 1.7573 - accuracy: 0.3857 - val_loss: 1.7822 - val_accuracy: 0.3737\n",
      "Epoch 4/10\n",
      "313/313 [==============================] - 5s 14ms/step - loss: 1.7098 - accuracy: 0.4003 - val_loss: 1.7825 - val_accuracy: 0.3712\n",
      "Epoch 5/10\n",
      "313/313 [==============================] - 4s 14ms/step - loss: 1.6690 - accuracy: 0.4148 - val_loss: 1.8052 - val_accuracy: 0.3584\n",
      "Epoch 6/10\n",
      "313/313 [==============================] - 5s 14ms/step - loss: 1.6395 - accuracy: 0.4270 - val_loss: 1.6987 - val_accuracy: 0.3957\n",
      "Epoch 7/10\n",
      "313/313 [==============================] - 5s 15ms/step - loss: 1.6138 - accuracy: 0.4351 - val_loss: 1.6738 - val_accuracy: 0.4026\n",
      "Epoch 8/10\n",
      "313/313 [==============================] - 5s 14ms/step - loss: 1.5882 - accuracy: 0.4445 - val_loss: 1.6253 - val_accuracy: 0.4301\n",
      "Epoch 9/10\n",
      "313/313 [==============================] - 5s 15ms/step - loss: 1.5638 - accuracy: 0.4521 - val_loss: 1.6493 - val_accuracy: 0.4124\n",
      "Epoch 10/10\n",
      "313/313 [==============================] - 5s 15ms/step - loss: 1.5464 - accuracy: 0.4599 - val_loss: 1.6002 - val_accuracy: 0.4326\n",
      "313/313 [==============================] - 1s 4ms/step - loss: 1.5738 - accuracy: 0.4367\n",
      "SGD, LR: 0.001, Train Acc: 0.4598749876022339, Test Acc: 0.4366999864578247, Generalization Gap: 0.02317500114440918"
     ]
    },
    {
     "name": "stderr",
     "output_type": "stream",
     "text": [
      "WARNING:absl:`lr` is deprecated in Keras optimizer, please use `learning_rate` or use the legacy optimizer, e.g.,tf.keras.optimizers.legacy.SGD.\n"
     ]
    },
    {
     "name": "stdout",
     "output_type": "stream",
     "text": [
      "\n",
      "Epoch 1/10\n",
      "313/313 [==============================] - 6s 17ms/step - loss: 2.0044 - accuracy: 0.2887 - val_loss: 1.8844 - val_accuracy: 0.3344\n",
      "Epoch 2/10\n",
      "313/313 [==============================] - 5s 15ms/step - loss: 1.8265 - accuracy: 0.3570 - val_loss: 1.8170 - val_accuracy: 0.3578\n",
      "Epoch 3/10\n",
      "313/313 [==============================] - 5s 15ms/step - loss: 1.7552 - accuracy: 0.3837 - val_loss: 1.7772 - val_accuracy: 0.3641\n",
      "Epoch 4/10\n",
      "313/313 [==============================] - 5s 15ms/step - loss: 1.7073 - accuracy: 0.4013 - val_loss: 1.8188 - val_accuracy: 0.3447\n",
      "Epoch 5/10\n",
      "313/313 [==============================] - 4s 14ms/step - loss: 1.6697 - accuracy: 0.4142 - val_loss: 1.7014 - val_accuracy: 0.3995\n",
      "Epoch 6/10\n",
      "313/313 [==============================] - 5s 16ms/step - loss: 1.6384 - accuracy: 0.4222 - val_loss: 1.7709 - val_accuracy: 0.3777\n",
      "Epoch 7/10\n",
      "313/313 [==============================] - 5s 15ms/step - loss: 1.6124 - accuracy: 0.4356 - val_loss: 1.6463 - val_accuracy: 0.4253\n",
      "Epoch 8/10\n",
      "313/313 [==============================] - 5s 16ms/step - loss: 1.5875 - accuracy: 0.4436 - val_loss: 1.6408 - val_accuracy: 0.4200\n",
      "Epoch 9/10\n",
      "313/313 [==============================] - 5s 16ms/step - loss: 1.5631 - accuracy: 0.4509 - val_loss: 1.6124 - val_accuracy: 0.4405\n",
      "Epoch 10/10\n",
      "313/313 [==============================] - 5s 15ms/step - loss: 1.5484 - accuracy: 0.4566 - val_loss: 1.5843 - val_accuracy: 0.4493\n",
      "313/313 [==============================] - 1s 4ms/step - loss: 1.5586 - accuracy: 0.4544\n",
      "SGD, LR: 0.01, Train Acc: 0.4565500020980835, Test Acc: 0.4544000029563904, Generalization Gap: 0.0021499991416931152\n"
     ]
    },
    {
     "name": "stderr",
     "output_type": "stream",
     "text": [
      "WARNING:absl:`lr` is deprecated in Keras optimizer, please use `learning_rate` or use the legacy optimizer, e.g.,tf.keras.optimizers.legacy.SGD.\n"
     ]
    },
    {
     "name": "stdout",
     "output_type": "stream",
     "text": [
      "Epoch 1/10\n",
      "313/313 [==============================] - 7s 19ms/step - loss: 2.0057 - accuracy: 0.2882 - val_loss: 1.9122 - val_accuracy: 0.3202\n",
      "Epoch 2/10\n",
      "193/313 [=================>............] - ETA: 1s - loss: 1.8491 - accuracy: 0.3518"
     ]
    },
    {
     "ename": "KeyboardInterrupt",
     "evalue": "",
     "output_type": "error",
     "traceback": [
      "\u001b[1;31m---------------------------------------------------------------------------\u001b[0m",
      "\u001b[1;31mKeyboardInterrupt\u001b[0m                         Traceback (most recent call last)",
      "Cell \u001b[1;32mIn[1], line 38\u001b[0m\n\u001b[0;32m     34\u001b[0m model \u001b[38;5;241m=\u001b[39m create_model()\n\u001b[0;32m     35\u001b[0m model\u001b[38;5;241m.\u001b[39mcompile(optimizer\u001b[38;5;241m=\u001b[39mopt(lr\u001b[38;5;241m=\u001b[39mlr),\n\u001b[0;32m     36\u001b[0m               loss\u001b[38;5;241m=\u001b[39m\u001b[38;5;124m'\u001b[39m\u001b[38;5;124mcategorical_crossentropy\u001b[39m\u001b[38;5;124m'\u001b[39m,\n\u001b[0;32m     37\u001b[0m               metrics\u001b[38;5;241m=\u001b[39m[\u001b[38;5;124m'\u001b[39m\u001b[38;5;124maccuracy\u001b[39m\u001b[38;5;124m'\u001b[39m])\n\u001b[1;32m---> 38\u001b[0m hist \u001b[38;5;241m=\u001b[39m \u001b[43mmodel\u001b[49m\u001b[38;5;241;43m.\u001b[39;49m\u001b[43mfit\u001b[49m\u001b[43m(\u001b[49m\u001b[43mtrain_X\u001b[49m\u001b[43m,\u001b[49m\u001b[43m \u001b[49m\u001b[43mtrain_y\u001b[49m\u001b[43m,\u001b[49m\u001b[43m \u001b[49m\u001b[43mepochs\u001b[49m\u001b[38;5;241;43m=\u001b[39;49m\u001b[38;5;241;43m10\u001b[39;49m\u001b[43m,\u001b[49m\u001b[43m \u001b[49m\u001b[43mbatch_size\u001b[49m\u001b[38;5;241;43m=\u001b[39;49m\u001b[38;5;241;43m128\u001b[39;49m\u001b[43m,\u001b[49m\u001b[43m \u001b[49m\u001b[43mvalidation_split\u001b[49m\u001b[38;5;241;43m=\u001b[39;49m\u001b[38;5;241;43m0.2\u001b[39;49m\u001b[43m)\u001b[49m\n\u001b[0;32m     39\u001b[0m loss, acc \u001b[38;5;241m=\u001b[39m model\u001b[38;5;241m.\u001b[39mevaluate(test_X, test_y)\n\u001b[0;32m     40\u001b[0m train_acc \u001b[38;5;241m=\u001b[39m hist\u001b[38;5;241m.\u001b[39mhistory[\u001b[38;5;124m'\u001b[39m\u001b[38;5;124maccuracy\u001b[39m\u001b[38;5;124m'\u001b[39m][\u001b[38;5;241m-\u001b[39m\u001b[38;5;241m1\u001b[39m]\n",
      "File \u001b[1;32mc:\\Python310\\lib\\site-packages\\keras\\src\\utils\\traceback_utils.py:65\u001b[0m, in \u001b[0;36mfilter_traceback.<locals>.error_handler\u001b[1;34m(*args, **kwargs)\u001b[0m\n\u001b[0;32m     63\u001b[0m filtered_tb \u001b[38;5;241m=\u001b[39m \u001b[38;5;28;01mNone\u001b[39;00m\n\u001b[0;32m     64\u001b[0m \u001b[38;5;28;01mtry\u001b[39;00m:\n\u001b[1;32m---> 65\u001b[0m     \u001b[38;5;28;01mreturn\u001b[39;00m fn(\u001b[38;5;241m*\u001b[39margs, \u001b[38;5;241m*\u001b[39m\u001b[38;5;241m*\u001b[39mkwargs)\n\u001b[0;32m     66\u001b[0m \u001b[38;5;28;01mexcept\u001b[39;00m \u001b[38;5;167;01mException\u001b[39;00m \u001b[38;5;28;01mas\u001b[39;00m e:\n\u001b[0;32m     67\u001b[0m     filtered_tb \u001b[38;5;241m=\u001b[39m _process_traceback_frames(e\u001b[38;5;241m.\u001b[39m__traceback__)\n",
      "File \u001b[1;32mc:\\Python310\\lib\\site-packages\\keras\\src\\engine\\training.py:1783\u001b[0m, in \u001b[0;36mModel.fit\u001b[1;34m(self, x, y, batch_size, epochs, verbose, callbacks, validation_split, validation_data, shuffle, class_weight, sample_weight, initial_epoch, steps_per_epoch, validation_steps, validation_batch_size, validation_freq, max_queue_size, workers, use_multiprocessing)\u001b[0m\n\u001b[0;32m   1775\u001b[0m \u001b[38;5;28;01mwith\u001b[39;00m tf\u001b[38;5;241m.\u001b[39mprofiler\u001b[38;5;241m.\u001b[39mexperimental\u001b[38;5;241m.\u001b[39mTrace(\n\u001b[0;32m   1776\u001b[0m     \u001b[38;5;124m\"\u001b[39m\u001b[38;5;124mtrain\u001b[39m\u001b[38;5;124m\"\u001b[39m,\n\u001b[0;32m   1777\u001b[0m     epoch_num\u001b[38;5;241m=\u001b[39mepoch,\n\u001b[1;32m   (...)\u001b[0m\n\u001b[0;32m   1780\u001b[0m     _r\u001b[38;5;241m=\u001b[39m\u001b[38;5;241m1\u001b[39m,\n\u001b[0;32m   1781\u001b[0m ):\n\u001b[0;32m   1782\u001b[0m     callbacks\u001b[38;5;241m.\u001b[39mon_train_batch_begin(step)\n\u001b[1;32m-> 1783\u001b[0m     tmp_logs \u001b[38;5;241m=\u001b[39m \u001b[38;5;28;43mself\u001b[39;49m\u001b[38;5;241;43m.\u001b[39;49m\u001b[43mtrain_function\u001b[49m\u001b[43m(\u001b[49m\u001b[43miterator\u001b[49m\u001b[43m)\u001b[49m\n\u001b[0;32m   1784\u001b[0m     \u001b[38;5;28;01mif\u001b[39;00m data_handler\u001b[38;5;241m.\u001b[39mshould_sync:\n\u001b[0;32m   1785\u001b[0m         context\u001b[38;5;241m.\u001b[39masync_wait()\n",
      "File \u001b[1;32mc:\\Python310\\lib\\site-packages\\tensorflow\\python\\util\\traceback_utils.py:150\u001b[0m, in \u001b[0;36mfilter_traceback.<locals>.error_handler\u001b[1;34m(*args, **kwargs)\u001b[0m\n\u001b[0;32m    148\u001b[0m filtered_tb \u001b[38;5;241m=\u001b[39m \u001b[38;5;28;01mNone\u001b[39;00m\n\u001b[0;32m    149\u001b[0m \u001b[38;5;28;01mtry\u001b[39;00m:\n\u001b[1;32m--> 150\u001b[0m   \u001b[38;5;28;01mreturn\u001b[39;00m fn(\u001b[38;5;241m*\u001b[39margs, \u001b[38;5;241m*\u001b[39m\u001b[38;5;241m*\u001b[39mkwargs)\n\u001b[0;32m    151\u001b[0m \u001b[38;5;28;01mexcept\u001b[39;00m \u001b[38;5;167;01mException\u001b[39;00m \u001b[38;5;28;01mas\u001b[39;00m e:\n\u001b[0;32m    152\u001b[0m   filtered_tb \u001b[38;5;241m=\u001b[39m _process_traceback_frames(e\u001b[38;5;241m.\u001b[39m__traceback__)\n",
      "File \u001b[1;32mc:\\Python310\\lib\\site-packages\\tensorflow\\python\\eager\\polymorphic_function\\polymorphic_function.py:831\u001b[0m, in \u001b[0;36mFunction.__call__\u001b[1;34m(self, *args, **kwds)\u001b[0m\n\u001b[0;32m    828\u001b[0m compiler \u001b[38;5;241m=\u001b[39m \u001b[38;5;124m\"\u001b[39m\u001b[38;5;124mxla\u001b[39m\u001b[38;5;124m\"\u001b[39m \u001b[38;5;28;01mif\u001b[39;00m \u001b[38;5;28mself\u001b[39m\u001b[38;5;241m.\u001b[39m_jit_compile \u001b[38;5;28;01melse\u001b[39;00m \u001b[38;5;124m\"\u001b[39m\u001b[38;5;124mnonXla\u001b[39m\u001b[38;5;124m\"\u001b[39m\n\u001b[0;32m    830\u001b[0m \u001b[38;5;28;01mwith\u001b[39;00m OptionalXlaContext(\u001b[38;5;28mself\u001b[39m\u001b[38;5;241m.\u001b[39m_jit_compile):\n\u001b[1;32m--> 831\u001b[0m   result \u001b[38;5;241m=\u001b[39m \u001b[38;5;28mself\u001b[39m\u001b[38;5;241m.\u001b[39m_call(\u001b[38;5;241m*\u001b[39margs, \u001b[38;5;241m*\u001b[39m\u001b[38;5;241m*\u001b[39mkwds)\n\u001b[0;32m    833\u001b[0m new_tracing_count \u001b[38;5;241m=\u001b[39m \u001b[38;5;28mself\u001b[39m\u001b[38;5;241m.\u001b[39mexperimental_get_tracing_count()\n\u001b[0;32m    834\u001b[0m without_tracing \u001b[38;5;241m=\u001b[39m (tracing_count \u001b[38;5;241m==\u001b[39m new_tracing_count)\n",
      "File \u001b[1;32mc:\\Python310\\lib\\site-packages\\tensorflow\\python\\eager\\polymorphic_function\\polymorphic_function.py:867\u001b[0m, in \u001b[0;36mFunction._call\u001b[1;34m(self, *args, **kwds)\u001b[0m\n\u001b[0;32m    864\u001b[0m   \u001b[38;5;28mself\u001b[39m\u001b[38;5;241m.\u001b[39m_lock\u001b[38;5;241m.\u001b[39mrelease()\n\u001b[0;32m    865\u001b[0m   \u001b[38;5;66;03m# In this case we have created variables on the first call, so we run the\u001b[39;00m\n\u001b[0;32m    866\u001b[0m   \u001b[38;5;66;03m# defunned version which is guaranteed to never create variables.\u001b[39;00m\n\u001b[1;32m--> 867\u001b[0m   \u001b[38;5;28;01mreturn\u001b[39;00m \u001b[43mtracing_compilation\u001b[49m\u001b[38;5;241;43m.\u001b[39;49m\u001b[43mcall_function\u001b[49m\u001b[43m(\u001b[49m\n\u001b[0;32m    868\u001b[0m \u001b[43m      \u001b[49m\u001b[43margs\u001b[49m\u001b[43m,\u001b[49m\u001b[43m \u001b[49m\u001b[43mkwds\u001b[49m\u001b[43m,\u001b[49m\u001b[43m \u001b[49m\u001b[38;5;28;43mself\u001b[39;49m\u001b[38;5;241;43m.\u001b[39;49m\u001b[43m_no_variable_creation_config\u001b[49m\n\u001b[0;32m    869\u001b[0m \u001b[43m  \u001b[49m\u001b[43m)\u001b[49m\n\u001b[0;32m    870\u001b[0m \u001b[38;5;28;01melif\u001b[39;00m \u001b[38;5;28mself\u001b[39m\u001b[38;5;241m.\u001b[39m_variable_creation_config \u001b[38;5;129;01mis\u001b[39;00m \u001b[38;5;129;01mnot\u001b[39;00m \u001b[38;5;28;01mNone\u001b[39;00m:\n\u001b[0;32m    871\u001b[0m   \u001b[38;5;66;03m# Release the lock early so that multiple threads can perform the call\u001b[39;00m\n\u001b[0;32m    872\u001b[0m   \u001b[38;5;66;03m# in parallel.\u001b[39;00m\n\u001b[0;32m    873\u001b[0m   \u001b[38;5;28mself\u001b[39m\u001b[38;5;241m.\u001b[39m_lock\u001b[38;5;241m.\u001b[39mrelease()\n",
      "File \u001b[1;32mc:\\Python310\\lib\\site-packages\\tensorflow\\python\\eager\\polymorphic_function\\tracing_compilation.py:139\u001b[0m, in \u001b[0;36mcall_function\u001b[1;34m(args, kwargs, tracing_options)\u001b[0m\n\u001b[0;32m    137\u001b[0m bound_args \u001b[38;5;241m=\u001b[39m function\u001b[38;5;241m.\u001b[39mfunction_type\u001b[38;5;241m.\u001b[39mbind(\u001b[38;5;241m*\u001b[39margs, \u001b[38;5;241m*\u001b[39m\u001b[38;5;241m*\u001b[39mkwargs)\n\u001b[0;32m    138\u001b[0m flat_inputs \u001b[38;5;241m=\u001b[39m function\u001b[38;5;241m.\u001b[39mfunction_type\u001b[38;5;241m.\u001b[39munpack_inputs(bound_args)\n\u001b[1;32m--> 139\u001b[0m \u001b[38;5;28;01mreturn\u001b[39;00m \u001b[43mfunction\u001b[49m\u001b[38;5;241;43m.\u001b[39;49m\u001b[43m_call_flat\u001b[49m\u001b[43m(\u001b[49m\u001b[43m  \u001b[49m\u001b[38;5;66;43;03m# pylint: disable=protected-access\u001b[39;49;00m\n\u001b[0;32m    140\u001b[0m \u001b[43m    \u001b[49m\u001b[43mflat_inputs\u001b[49m\u001b[43m,\u001b[49m\u001b[43m \u001b[49m\u001b[43mcaptured_inputs\u001b[49m\u001b[38;5;241;43m=\u001b[39;49m\u001b[43mfunction\u001b[49m\u001b[38;5;241;43m.\u001b[39;49m\u001b[43mcaptured_inputs\u001b[49m\n\u001b[0;32m    141\u001b[0m \u001b[43m\u001b[49m\u001b[43m)\u001b[49m\n",
      "File \u001b[1;32mc:\\Python310\\lib\\site-packages\\tensorflow\\python\\eager\\polymorphic_function\\concrete_function.py:1264\u001b[0m, in \u001b[0;36mConcreteFunction._call_flat\u001b[1;34m(self, tensor_inputs, captured_inputs)\u001b[0m\n\u001b[0;32m   1260\u001b[0m possible_gradient_type \u001b[38;5;241m=\u001b[39m gradients_util\u001b[38;5;241m.\u001b[39mPossibleTapeGradientTypes(args)\n\u001b[0;32m   1261\u001b[0m \u001b[38;5;28;01mif\u001b[39;00m (possible_gradient_type \u001b[38;5;241m==\u001b[39m gradients_util\u001b[38;5;241m.\u001b[39mPOSSIBLE_GRADIENT_TYPES_NONE\n\u001b[0;32m   1262\u001b[0m     \u001b[38;5;129;01mand\u001b[39;00m executing_eagerly):\n\u001b[0;32m   1263\u001b[0m   \u001b[38;5;66;03m# No tape is watching; skip to running the function.\u001b[39;00m\n\u001b[1;32m-> 1264\u001b[0m   \u001b[38;5;28;01mreturn\u001b[39;00m \u001b[38;5;28;43mself\u001b[39;49m\u001b[38;5;241;43m.\u001b[39;49m\u001b[43m_inference_function\u001b[49m\u001b[38;5;241;43m.\u001b[39;49m\u001b[43mflat_call\u001b[49m\u001b[43m(\u001b[49m\u001b[43margs\u001b[49m\u001b[43m)\u001b[49m\n\u001b[0;32m   1265\u001b[0m forward_backward \u001b[38;5;241m=\u001b[39m \u001b[38;5;28mself\u001b[39m\u001b[38;5;241m.\u001b[39m_select_forward_and_backward_functions(\n\u001b[0;32m   1266\u001b[0m     args,\n\u001b[0;32m   1267\u001b[0m     possible_gradient_type,\n\u001b[0;32m   1268\u001b[0m     executing_eagerly)\n\u001b[0;32m   1269\u001b[0m forward_function, args_with_tangents \u001b[38;5;241m=\u001b[39m forward_backward\u001b[38;5;241m.\u001b[39mforward()\n",
      "File \u001b[1;32mc:\\Python310\\lib\\site-packages\\tensorflow\\python\\eager\\polymorphic_function\\atomic_function.py:217\u001b[0m, in \u001b[0;36mAtomicFunction.flat_call\u001b[1;34m(self, args)\u001b[0m\n\u001b[0;32m    215\u001b[0m \u001b[38;5;28;01mdef\u001b[39;00m \u001b[38;5;21mflat_call\u001b[39m(\u001b[38;5;28mself\u001b[39m, args: Sequence[core\u001b[38;5;241m.\u001b[39mTensor]) \u001b[38;5;241m-\u001b[39m\u001b[38;5;241m>\u001b[39m Any:\n\u001b[0;32m    216\u001b[0m \u001b[38;5;250m  \u001b[39m\u001b[38;5;124;03m\"\"\"Calls with tensor inputs and returns the structured output.\"\"\"\u001b[39;00m\n\u001b[1;32m--> 217\u001b[0m   flat_outputs \u001b[38;5;241m=\u001b[39m \u001b[38;5;28;43mself\u001b[39;49m\u001b[43m(\u001b[49m\u001b[38;5;241;43m*\u001b[39;49m\u001b[43margs\u001b[49m\u001b[43m)\u001b[49m\n\u001b[0;32m    218\u001b[0m   \u001b[38;5;28;01mreturn\u001b[39;00m \u001b[38;5;28mself\u001b[39m\u001b[38;5;241m.\u001b[39mfunction_type\u001b[38;5;241m.\u001b[39mpack_output(flat_outputs)\n",
      "File \u001b[1;32mc:\\Python310\\lib\\site-packages\\tensorflow\\python\\eager\\polymorphic_function\\atomic_function.py:252\u001b[0m, in \u001b[0;36mAtomicFunction.__call__\u001b[1;34m(self, *args)\u001b[0m\n\u001b[0;32m    250\u001b[0m \u001b[38;5;28;01mwith\u001b[39;00m record\u001b[38;5;241m.\u001b[39mstop_recording():\n\u001b[0;32m    251\u001b[0m   \u001b[38;5;28;01mif\u001b[39;00m \u001b[38;5;28mself\u001b[39m\u001b[38;5;241m.\u001b[39m_bound_context\u001b[38;5;241m.\u001b[39mexecuting_eagerly():\n\u001b[1;32m--> 252\u001b[0m     outputs \u001b[38;5;241m=\u001b[39m \u001b[38;5;28;43mself\u001b[39;49m\u001b[38;5;241;43m.\u001b[39;49m\u001b[43m_bound_context\u001b[49m\u001b[38;5;241;43m.\u001b[39;49m\u001b[43mcall_function\u001b[49m\u001b[43m(\u001b[49m\n\u001b[0;32m    253\u001b[0m \u001b[43m        \u001b[49m\u001b[38;5;28;43mself\u001b[39;49m\u001b[38;5;241;43m.\u001b[39;49m\u001b[43mname\u001b[49m\u001b[43m,\u001b[49m\n\u001b[0;32m    254\u001b[0m \u001b[43m        \u001b[49m\u001b[38;5;28;43mlist\u001b[39;49m\u001b[43m(\u001b[49m\u001b[43margs\u001b[49m\u001b[43m)\u001b[49m\u001b[43m,\u001b[49m\n\u001b[0;32m    255\u001b[0m \u001b[43m        \u001b[49m\u001b[38;5;28;43mlen\u001b[39;49m\u001b[43m(\u001b[49m\u001b[38;5;28;43mself\u001b[39;49m\u001b[38;5;241;43m.\u001b[39;49m\u001b[43mfunction_type\u001b[49m\u001b[38;5;241;43m.\u001b[39;49m\u001b[43mflat_outputs\u001b[49m\u001b[43m)\u001b[49m\u001b[43m,\u001b[49m\n\u001b[0;32m    256\u001b[0m \u001b[43m    \u001b[49m\u001b[43m)\u001b[49m\n\u001b[0;32m    257\u001b[0m   \u001b[38;5;28;01melse\u001b[39;00m:\n\u001b[0;32m    258\u001b[0m     outputs \u001b[38;5;241m=\u001b[39m make_call_op_in_graph(\n\u001b[0;32m    259\u001b[0m         \u001b[38;5;28mself\u001b[39m,\n\u001b[0;32m    260\u001b[0m         \u001b[38;5;28mlist\u001b[39m(args),\n\u001b[0;32m    261\u001b[0m         \u001b[38;5;28mself\u001b[39m\u001b[38;5;241m.\u001b[39m_bound_context\u001b[38;5;241m.\u001b[39mfunction_call_options\u001b[38;5;241m.\u001b[39mas_attrs(),\n\u001b[0;32m    262\u001b[0m     )\n",
      "File \u001b[1;32mc:\\Python310\\lib\\site-packages\\tensorflow\\python\\eager\\context.py:1479\u001b[0m, in \u001b[0;36mContext.call_function\u001b[1;34m(self, name, tensor_inputs, num_outputs)\u001b[0m\n\u001b[0;32m   1477\u001b[0m cancellation_context \u001b[38;5;241m=\u001b[39m cancellation\u001b[38;5;241m.\u001b[39mcontext()\n\u001b[0;32m   1478\u001b[0m \u001b[38;5;28;01mif\u001b[39;00m cancellation_context \u001b[38;5;129;01mis\u001b[39;00m \u001b[38;5;28;01mNone\u001b[39;00m:\n\u001b[1;32m-> 1479\u001b[0m   outputs \u001b[38;5;241m=\u001b[39m \u001b[43mexecute\u001b[49m\u001b[38;5;241;43m.\u001b[39;49m\u001b[43mexecute\u001b[49m\u001b[43m(\u001b[49m\n\u001b[0;32m   1480\u001b[0m \u001b[43m      \u001b[49m\u001b[43mname\u001b[49m\u001b[38;5;241;43m.\u001b[39;49m\u001b[43mdecode\u001b[49m\u001b[43m(\u001b[49m\u001b[38;5;124;43m\"\u001b[39;49m\u001b[38;5;124;43mutf-8\u001b[39;49m\u001b[38;5;124;43m\"\u001b[39;49m\u001b[43m)\u001b[49m\u001b[43m,\u001b[49m\n\u001b[0;32m   1481\u001b[0m \u001b[43m      \u001b[49m\u001b[43mnum_outputs\u001b[49m\u001b[38;5;241;43m=\u001b[39;49m\u001b[43mnum_outputs\u001b[49m\u001b[43m,\u001b[49m\n\u001b[0;32m   1482\u001b[0m \u001b[43m      \u001b[49m\u001b[43minputs\u001b[49m\u001b[38;5;241;43m=\u001b[39;49m\u001b[43mtensor_inputs\u001b[49m\u001b[43m,\u001b[49m\n\u001b[0;32m   1483\u001b[0m \u001b[43m      \u001b[49m\u001b[43mattrs\u001b[49m\u001b[38;5;241;43m=\u001b[39;49m\u001b[43mattrs\u001b[49m\u001b[43m,\u001b[49m\n\u001b[0;32m   1484\u001b[0m \u001b[43m      \u001b[49m\u001b[43mctx\u001b[49m\u001b[38;5;241;43m=\u001b[39;49m\u001b[38;5;28;43mself\u001b[39;49m\u001b[43m,\u001b[49m\n\u001b[0;32m   1485\u001b[0m \u001b[43m  \u001b[49m\u001b[43m)\u001b[49m\n\u001b[0;32m   1486\u001b[0m \u001b[38;5;28;01melse\u001b[39;00m:\n\u001b[0;32m   1487\u001b[0m   outputs \u001b[38;5;241m=\u001b[39m execute\u001b[38;5;241m.\u001b[39mexecute_with_cancellation(\n\u001b[0;32m   1488\u001b[0m       name\u001b[38;5;241m.\u001b[39mdecode(\u001b[38;5;124m\"\u001b[39m\u001b[38;5;124mutf-8\u001b[39m\u001b[38;5;124m\"\u001b[39m),\n\u001b[0;32m   1489\u001b[0m       num_outputs\u001b[38;5;241m=\u001b[39mnum_outputs,\n\u001b[1;32m   (...)\u001b[0m\n\u001b[0;32m   1493\u001b[0m       cancellation_manager\u001b[38;5;241m=\u001b[39mcancellation_context,\n\u001b[0;32m   1494\u001b[0m   )\n",
      "File \u001b[1;32mc:\\Python310\\lib\\site-packages\\tensorflow\\python\\eager\\execute.py:60\u001b[0m, in \u001b[0;36mquick_execute\u001b[1;34m(op_name, num_outputs, inputs, attrs, ctx, name)\u001b[0m\n\u001b[0;32m     53\u001b[0m   \u001b[38;5;66;03m# Convert any objects of type core_types.Tensor to Tensor.\u001b[39;00m\n\u001b[0;32m     54\u001b[0m   inputs \u001b[38;5;241m=\u001b[39m [\n\u001b[0;32m     55\u001b[0m       tensor_conversion_registry\u001b[38;5;241m.\u001b[39mconvert(t)\n\u001b[0;32m     56\u001b[0m       \u001b[38;5;28;01mif\u001b[39;00m \u001b[38;5;28misinstance\u001b[39m(t, core_types\u001b[38;5;241m.\u001b[39mTensor)\n\u001b[0;32m     57\u001b[0m       \u001b[38;5;28;01melse\u001b[39;00m t\n\u001b[0;32m     58\u001b[0m       \u001b[38;5;28;01mfor\u001b[39;00m t \u001b[38;5;129;01min\u001b[39;00m inputs\n\u001b[0;32m     59\u001b[0m   ]\n\u001b[1;32m---> 60\u001b[0m   tensors \u001b[38;5;241m=\u001b[39m \u001b[43mpywrap_tfe\u001b[49m\u001b[38;5;241;43m.\u001b[39;49m\u001b[43mTFE_Py_Execute\u001b[49m\u001b[43m(\u001b[49m\u001b[43mctx\u001b[49m\u001b[38;5;241;43m.\u001b[39;49m\u001b[43m_handle\u001b[49m\u001b[43m,\u001b[49m\u001b[43m \u001b[49m\u001b[43mdevice_name\u001b[49m\u001b[43m,\u001b[49m\u001b[43m \u001b[49m\u001b[43mop_name\u001b[49m\u001b[43m,\u001b[49m\n\u001b[0;32m     61\u001b[0m \u001b[43m                                      \u001b[49m\u001b[43minputs\u001b[49m\u001b[43m,\u001b[49m\u001b[43m \u001b[49m\u001b[43mattrs\u001b[49m\u001b[43m,\u001b[49m\u001b[43m \u001b[49m\u001b[43mnum_outputs\u001b[49m\u001b[43m)\u001b[49m\n\u001b[0;32m     62\u001b[0m \u001b[38;5;28;01mexcept\u001b[39;00m core\u001b[38;5;241m.\u001b[39m_NotOkStatusException \u001b[38;5;28;01mas\u001b[39;00m e:\n\u001b[0;32m     63\u001b[0m   \u001b[38;5;28;01mif\u001b[39;00m name \u001b[38;5;129;01mis\u001b[39;00m \u001b[38;5;129;01mnot\u001b[39;00m \u001b[38;5;28;01mNone\u001b[39;00m:\n",
      "\u001b[1;31mKeyboardInterrupt\u001b[0m: "
     ]
    }
   ],
   "source": [
    "import tensorflow as tf\n",
    "from tensorflow.keras.datasets import cifar10\n",
    "from tensorflow.keras.models import Sequential\n",
    "from tensorflow.keras.layers import Flatten, Dense\n",
    "from tensorflow.keras.optimizers import SGD, Adam, RMSprop\n",
    "from tensorflow.keras.utils import to_categorical\n",
    "\n",
    "# Load CIFAR-10 dataset\n",
    "(train_X, train_y), (test_X, test_y) = cifar10.load_data()\n",
    "\n",
    "# Preprocess data\n",
    "train_X = train_X.astype('float32') / 255\n",
    "test_X = test_X.astype('float32') / 255\n",
    "\n",
    "train_y = to_categorical(train_y)\n",
    "test_y = to_categorical(test_y)\n",
    "\n",
    "# Define MLP architecture\n",
    "def create_model():\n",
    "    model = Sequential([\n",
    "        Flatten(input_shape=(32, 32, 3)),\n",
    "        Dense(512, activation='relu'),\n",
    "        Dense(256, activation='relu'),\n",
    "        Dense(10, activation='softmax')\n",
    "    ])\n",
    "    return model\n",
    "\n",
    "# Experiment with different learning rates\n",
    "lrs = [0.001, 0.01, 0.1]\n",
    "opts = [SGD, Adam, RMSprop]\n",
    "\n",
    "for opt in opts:\n",
    "    for lr in lrs:\n",
    "        model = create_model()\n",
    "        model.compile(optimizer=opt(lr=lr),\n",
    "                      loss='categorical_crossentropy',\n",
    "                      metrics=['accuracy'])\n",
    "        hist = model.fit(train_X, train_y, epochs=10, batch_size=128, validation_split=0.2)\n",
    "        loss, acc = model.evaluate(test_X, test_y)\n",
    "        train_acc = hist.history['accuracy'][-1]\n",
    "        val_acc = hist.history['val_accuracy'][-1]\n",
    "        print(f\"{opt.__name__}, LR: {lr}, Train Acc: {train_acc}, Test Acc: {acc}, Generalization Gap: {train_acc - acc}\")\n",
    "\n"
   ]
  },
  {
   "cell_type": "code",
   "execution_count": 2,
   "metadata": {},
   "outputs": [
    {
     "name": "stderr",
     "output_type": "stream",
     "text": [
      "WARNING:absl:`lr` is deprecated in Keras optimizer, please use `learning_rate` or use the legacy optimizer, e.g.,tf.keras.optimizers.legacy.SGD.\n"
     ]
    },
    {
     "name": "stdout",
     "output_type": "stream",
     "text": [
      "Epoch 1/10\n",
      "313/313 [==============================] - 6s 18ms/step - loss: 1.9858 - accuracy: 0.2943 - val_loss: 1.8759 - val_accuracy: 0.3360\n",
      "Epoch 2/10\n",
      "313/313 [==============================] - 4s 14ms/step - loss: 1.8261 - accuracy: 0.3590 - val_loss: 1.8386 - val_accuracy: 0.3508\n",
      "Epoch 3/10\n",
      "313/313 [==============================] - 5s 15ms/step - loss: 1.7579 - accuracy: 0.3844 - val_loss: 1.7562 - val_accuracy: 0.3791\n",
      "Epoch 4/10\n",
      "313/313 [==============================] - 5s 15ms/step - loss: 1.7156 - accuracy: 0.3988 - val_loss: 1.7122 - val_accuracy: 0.3950\n",
      "Epoch 5/10\n",
      "313/313 [==============================] - 5s 16ms/step - loss: 1.6744 - accuracy: 0.4135 - val_loss: 1.7038 - val_accuracy: 0.3965\n",
      "Epoch 6/10\n",
      "313/313 [==============================] - 5s 14ms/step - loss: 1.6412 - accuracy: 0.4268 - val_loss: 1.6993 - val_accuracy: 0.3926\n",
      "Epoch 7/10\n",
      "313/313 [==============================] - 5s 15ms/step - loss: 1.6154 - accuracy: 0.4330 - val_loss: 1.6488 - val_accuracy: 0.4159\n",
      "Epoch 8/10\n",
      "313/313 [==============================] - 4s 14ms/step - loss: 1.5905 - accuracy: 0.4437 - val_loss: 1.6205 - val_accuracy: 0.4352\n",
      "Epoch 9/10\n",
      "313/313 [==============================] - 4s 12ms/step - loss: 1.5681 - accuracy: 0.4487 - val_loss: 1.6142 - val_accuracy: 0.4386\n",
      "Epoch 10/10\n",
      "313/313 [==============================] - 4s 12ms/step - loss: 1.5460 - accuracy: 0.4595 - val_loss: 1.5998 - val_accuracy: 0.4355\n",
      "313/313 [==============================] - 1s 3ms/step - loss: 1.5789 - accuracy: 0.4506\n",
      "SGD, 0.001, Test Acc: 0.4505999982357025\n"
     ]
    },
    {
     "name": "stderr",
     "output_type": "stream",
     "text": [
      "WARNING:absl:`lr` is deprecated in Keras optimizer, please use `learning_rate` or use the legacy optimizer, e.g.,tf.keras.optimizers.legacy.SGD.\n"
     ]
    },
    {
     "name": "stdout",
     "output_type": "stream",
     "text": [
      "Epoch 1/10\n",
      "313/313 [==============================] - 5s 13ms/step - loss: 2.0045 - accuracy: 0.2832 - val_loss: 1.8922 - val_accuracy: 0.3242\n",
      "Epoch 2/10\n",
      "313/313 [==============================] - 4s 12ms/step - loss: 1.8327 - accuracy: 0.3566 - val_loss: 1.8246 - val_accuracy: 0.3473\n",
      "Epoch 3/10\n",
      "313/313 [==============================] - 4s 12ms/step - loss: 1.7646 - accuracy: 0.3824 - val_loss: 1.7944 - val_accuracy: 0.3730\n",
      "Epoch 4/10\n",
      "313/313 [==============================] - 4s 12ms/step - loss: 1.7158 - accuracy: 0.3993 - val_loss: 1.7461 - val_accuracy: 0.3928\n",
      "Epoch 5/10\n",
      "313/313 [==============================] - 4s 12ms/step - loss: 1.6775 - accuracy: 0.4148 - val_loss: 1.6906 - val_accuracy: 0.4038\n",
      "Epoch 6/10\n",
      "313/313 [==============================] - 4s 12ms/step - loss: 1.6481 - accuracy: 0.4203 - val_loss: 1.7407 - val_accuracy: 0.3849\n",
      "Epoch 7/10\n",
      "313/313 [==============================] - 4s 12ms/step - loss: 1.6200 - accuracy: 0.4343 - val_loss: 1.6918 - val_accuracy: 0.4102\n",
      "Epoch 8/10\n",
      "313/313 [==============================] - 4s 12ms/step - loss: 1.5932 - accuracy: 0.4441 - val_loss: 1.6303 - val_accuracy: 0.4220\n",
      "Epoch 9/10\n",
      "313/313 [==============================] - 4s 12ms/step - loss: 1.5714 - accuracy: 0.4508 - val_loss: 1.6545 - val_accuracy: 0.4178\n",
      "Epoch 10/10\n",
      "313/313 [==============================] - 4s 12ms/step - loss: 1.5510 - accuracy: 0.4550 - val_loss: 1.6157 - val_accuracy: 0.4309\n",
      "313/313 [==============================] - 1s 3ms/step - loss: 1.5867 - accuracy: 0.4384\n",
      "SGD, 0.01, Test Acc: 0.438400000333786\n"
     ]
    },
    {
     "name": "stderr",
     "output_type": "stream",
     "text": [
      "WARNING:absl:`lr` is deprecated in Keras optimizer, please use `learning_rate` or use the legacy optimizer, e.g.,tf.keras.optimizers.legacy.SGD.\n"
     ]
    },
    {
     "name": "stdout",
     "output_type": "stream",
     "text": [
      "Epoch 1/10\n",
      "313/313 [==============================] - 5s 14ms/step - loss: 1.9995 - accuracy: 0.2910 - val_loss: 1.9246 - val_accuracy: 0.3122\n",
      "Epoch 2/10\n",
      "313/313 [==============================] - 4s 12ms/step - loss: 1.8284 - accuracy: 0.3575 - val_loss: 1.8173 - val_accuracy: 0.3500\n",
      "Epoch 3/10\n",
      "313/313 [==============================] - 4s 12ms/step - loss: 1.7583 - accuracy: 0.3838 - val_loss: 1.7676 - val_accuracy: 0.3780\n",
      "Epoch 4/10\n",
      "313/313 [==============================] - 4s 12ms/step - loss: 1.7104 - accuracy: 0.3992 - val_loss: 1.7482 - val_accuracy: 0.3843\n",
      "Epoch 5/10\n",
      "313/313 [==============================] - 4s 12ms/step - loss: 1.6701 - accuracy: 0.4146 - val_loss: 1.7313 - val_accuracy: 0.3929\n",
      "Epoch 6/10\n",
      "313/313 [==============================] - 4s 12ms/step - loss: 1.6377 - accuracy: 0.4286 - val_loss: 1.6974 - val_accuracy: 0.4018\n",
      "Epoch 7/10\n",
      "313/313 [==============================] - 4s 12ms/step - loss: 1.6094 - accuracy: 0.4365 - val_loss: 1.6987 - val_accuracy: 0.3973\n",
      "Epoch 8/10\n",
      "313/313 [==============================] - 4s 12ms/step - loss: 1.5857 - accuracy: 0.4430 - val_loss: 1.6113 - val_accuracy: 0.4402\n",
      "Epoch 9/10\n",
      "313/313 [==============================] - 4s 12ms/step - loss: 1.5636 - accuracy: 0.4502 - val_loss: 1.6361 - val_accuracy: 0.4213\n",
      "Epoch 10/10\n",
      "313/313 [==============================] - 4s 12ms/step - loss: 1.5423 - accuracy: 0.4586 - val_loss: 1.5859 - val_accuracy: 0.4458\n",
      "313/313 [==============================] - 1s 3ms/step - loss: 1.5580 - accuracy: 0.4516\n"
     ]
    },
    {
     "name": "stderr",
     "output_type": "stream",
     "text": [
      "WARNING:absl:`lr` is deprecated in Keras optimizer, please use `learning_rate` or use the legacy optimizer, e.g.,tf.keras.optimizers.legacy.Adam.\n"
     ]
    },
    {
     "name": "stdout",
     "output_type": "stream",
     "text": [
      "SGD, 0.1, Test Acc: 0.45159998536109924\n",
      "Epoch 1/10\n",
      "313/313 [==============================] - 11s 30ms/step - loss: 1.9441 - accuracy: 0.3098 - val_loss: 1.8118 - val_accuracy: 0.3570\n",
      "Epoch 2/10\n",
      "313/313 [==============================] - 9s 29ms/step - loss: 1.7181 - accuracy: 0.3869 - val_loss: 1.6963 - val_accuracy: 0.3925\n",
      "Epoch 3/10\n",
      "313/313 [==============================] - 9s 30ms/step - loss: 1.6241 - accuracy: 0.4209 - val_loss: 1.6456 - val_accuracy: 0.4123\n",
      "Epoch 4/10\n",
      "313/313 [==============================] - 9s 28ms/step - loss: 1.5761 - accuracy: 0.4401 - val_loss: 1.5767 - val_accuracy: 0.4401\n",
      "Epoch 5/10\n",
      "313/313 [==============================] - 9s 28ms/step - loss: 1.5191 - accuracy: 0.4581 - val_loss: 1.5625 - val_accuracy: 0.4429\n",
      "Epoch 6/10\n",
      "313/313 [==============================] - 9s 28ms/step - loss: 1.4746 - accuracy: 0.4730 - val_loss: 1.5141 - val_accuracy: 0.4630\n",
      "Epoch 7/10\n",
      "313/313 [==============================] - 9s 28ms/step - loss: 1.4545 - accuracy: 0.4810 - val_loss: 1.5209 - val_accuracy: 0.4608\n",
      "Epoch 8/10\n",
      "313/313 [==============================] - 9s 29ms/step - loss: 1.4234 - accuracy: 0.4918 - val_loss: 1.5220 - val_accuracy: 0.4588\n",
      "Epoch 9/10\n",
      "313/313 [==============================] - 9s 28ms/step - loss: 1.3921 - accuracy: 0.5042 - val_loss: 1.4885 - val_accuracy: 0.4794\n",
      "Epoch 10/10\n",
      "313/313 [==============================] - 9s 28ms/step - loss: 1.3704 - accuracy: 0.5100 - val_loss: 1.4900 - val_accuracy: 0.4730\n",
      "313/313 [==============================] - 1s 3ms/step - loss: 1.4832 - accuracy: 0.4729\n",
      "Adam, 0.001, Test Acc: 0.47290000319480896\n"
     ]
    },
    {
     "name": "stderr",
     "output_type": "stream",
     "text": [
      "WARNING:absl:`lr` is deprecated in Keras optimizer, please use `learning_rate` or use the legacy optimizer, e.g.,tf.keras.optimizers.legacy.Adam.\n"
     ]
    },
    {
     "name": "stdout",
     "output_type": "stream",
     "text": [
      "Epoch 1/10\n",
      "313/313 [==============================] - 9s 28ms/step - loss: 1.9294 - accuracy: 0.3103 - val_loss: 1.7569 - val_accuracy: 0.3695\n",
      "Epoch 2/10\n",
      "313/313 [==============================] - 9s 28ms/step - loss: 1.7012 - accuracy: 0.3911 - val_loss: 1.6696 - val_accuracy: 0.4034\n",
      "Epoch 3/10\n",
      "313/313 [==============================] - 9s 28ms/step - loss: 1.6104 - accuracy: 0.4249 - val_loss: 1.6188 - val_accuracy: 0.4272\n",
      "Epoch 4/10\n",
      "313/313 [==============================] - 9s 28ms/step - loss: 1.5538 - accuracy: 0.4459 - val_loss: 1.6041 - val_accuracy: 0.4299\n",
      "Epoch 5/10\n",
      "313/313 [==============================] - 9s 28ms/step - loss: 1.5135 - accuracy: 0.4625 - val_loss: 1.5322 - val_accuracy: 0.4576\n",
      "Epoch 6/10\n",
      "313/313 [==============================] - 9s 28ms/step - loss: 1.4727 - accuracy: 0.4793 - val_loss: 1.5225 - val_accuracy: 0.4564\n",
      "Epoch 7/10\n",
      "313/313 [==============================] - 9s 28ms/step - loss: 1.4386 - accuracy: 0.4874 - val_loss: 1.6333 - val_accuracy: 0.4265\n",
      "Epoch 8/10\n",
      "313/313 [==============================] - 9s 28ms/step - loss: 1.4111 - accuracy: 0.4961 - val_loss: 1.4795 - val_accuracy: 0.4815\n",
      "Epoch 9/10\n",
      "313/313 [==============================] - 9s 28ms/step - loss: 1.3819 - accuracy: 0.5096 - val_loss: 1.4780 - val_accuracy: 0.4848\n",
      "Epoch 10/10\n",
      "313/313 [==============================] - 9s 28ms/step - loss: 1.3605 - accuracy: 0.5131 - val_loss: 1.4639 - val_accuracy: 0.4834\n",
      "313/313 [==============================] - 1s 3ms/step - loss: 1.4338 - accuracy: 0.4911\n",
      "Adam, 0.01, Test Acc: 0.491100013256073\n"
     ]
    },
    {
     "name": "stderr",
     "output_type": "stream",
     "text": [
      "WARNING:absl:`lr` is deprecated in Keras optimizer, please use `learning_rate` or use the legacy optimizer, e.g.,tf.keras.optimizers.legacy.Adam.\n"
     ]
    },
    {
     "name": "stdout",
     "output_type": "stream",
     "text": [
      "Epoch 1/10\n",
      "313/313 [==============================] - 10s 29ms/step - loss: 1.9535 - accuracy: 0.3063 - val_loss: 1.7876 - val_accuracy: 0.3616\n",
      "Epoch 2/10\n",
      "313/313 [==============================] - 9s 29ms/step - loss: 1.7092 - accuracy: 0.3882 - val_loss: 1.6879 - val_accuracy: 0.3979\n",
      "Epoch 3/10\n",
      "313/313 [==============================] - 9s 29ms/step - loss: 1.6281 - accuracy: 0.4193 - val_loss: 1.6661 - val_accuracy: 0.4141\n",
      "Epoch 4/10\n",
      "313/313 [==============================] - 10s 31ms/step - loss: 1.5720 - accuracy: 0.4410 - val_loss: 1.6312 - val_accuracy: 0.4270\n",
      "Epoch 5/10\n",
      "313/313 [==============================] - 9s 28ms/step - loss: 1.5310 - accuracy: 0.4534 - val_loss: 1.5640 - val_accuracy: 0.4451\n",
      "Epoch 6/10\n",
      "313/313 [==============================] - 9s 28ms/step - loss: 1.4811 - accuracy: 0.4727 - val_loss: 1.5445 - val_accuracy: 0.4517\n",
      "Epoch 7/10\n",
      "313/313 [==============================] - 9s 28ms/step - loss: 1.4602 - accuracy: 0.4778 - val_loss: 1.4991 - val_accuracy: 0.4706\n",
      "Epoch 8/10\n",
      "313/313 [==============================] - 9s 28ms/step - loss: 1.4348 - accuracy: 0.4886 - val_loss: 1.5914 - val_accuracy: 0.4465\n",
      "Epoch 9/10\n",
      "313/313 [==============================] - 9s 29ms/step - loss: 1.4077 - accuracy: 0.4972 - val_loss: 1.5001 - val_accuracy: 0.4708\n",
      "Epoch 10/10\n",
      "313/313 [==============================] - 10s 30ms/step - loss: 1.3783 - accuracy: 0.5053 - val_loss: 1.4583 - val_accuracy: 0.4855\n",
      "313/313 [==============================] - 1s 3ms/step - loss: 1.4435 - accuracy: 0.4932\n"
     ]
    },
    {
     "name": "stderr",
     "output_type": "stream",
     "text": [
      "WARNING:absl:`lr` is deprecated in Keras optimizer, please use `learning_rate` or use the legacy optimizer, e.g.,tf.keras.optimizers.legacy.RMSprop.\n"
     ]
    },
    {
     "name": "stdout",
     "output_type": "stream",
     "text": [
      "Adam, 0.1, Test Acc: 0.49320000410079956\n",
      "Epoch 1/10\n",
      "313/313 [==============================] - 8s 23ms/step - loss: 2.1331 - accuracy: 0.2591 - val_loss: 2.1026 - val_accuracy: 0.2786\n",
      "Epoch 2/10\n",
      "313/313 [==============================] - 7s 21ms/step - loss: 1.8025 - accuracy: 0.3557 - val_loss: 1.8890 - val_accuracy: 0.3228\n",
      "Epoch 3/10\n",
      "313/313 [==============================] - 7s 22ms/step - loss: 1.7118 - accuracy: 0.3852 - val_loss: 1.8622 - val_accuracy: 0.3207\n",
      "Epoch 4/10\n",
      "313/313 [==============================] - 7s 21ms/step - loss: 1.6419 - accuracy: 0.4148 - val_loss: 1.6501 - val_accuracy: 0.4152\n",
      "Epoch 5/10\n",
      "313/313 [==============================] - 7s 21ms/step - loss: 1.5954 - accuracy: 0.4326 - val_loss: 1.6389 - val_accuracy: 0.4077\n",
      "Epoch 6/10\n",
      "313/313 [==============================] - 7s 22ms/step - loss: 1.5575 - accuracy: 0.4435 - val_loss: 1.6581 - val_accuracy: 0.4161\n",
      "Epoch 7/10\n",
      "313/313 [==============================] - 7s 24ms/step - loss: 1.5203 - accuracy: 0.4566 - val_loss: 1.6271 - val_accuracy: 0.4320\n",
      "Epoch 8/10\n",
      "313/313 [==============================] - 7s 23ms/step - loss: 1.4910 - accuracy: 0.4704 - val_loss: 1.5684 - val_accuracy: 0.4493\n",
      "Epoch 9/10\n",
      "313/313 [==============================] - 7s 23ms/step - loss: 1.4601 - accuracy: 0.4797 - val_loss: 1.6485 - val_accuracy: 0.4179\n",
      "Epoch 10/10\n",
      "313/313 [==============================] - 7s 23ms/step - loss: 1.4382 - accuracy: 0.4896 - val_loss: 1.5696 - val_accuracy: 0.4408\n",
      "313/313 [==============================] - 1s 3ms/step - loss: 1.5405 - accuracy: 0.4433\n"
     ]
    },
    {
     "name": "stderr",
     "output_type": "stream",
     "text": [
      "WARNING:absl:`lr` is deprecated in Keras optimizer, please use `learning_rate` or use the legacy optimizer, e.g.,tf.keras.optimizers.legacy.RMSprop.\n"
     ]
    },
    {
     "name": "stdout",
     "output_type": "stream",
     "text": [
      "RMSprop, 0.001, Test Acc: 0.4433000087738037\n",
      "Epoch 1/10\n",
      "313/313 [==============================] - 8s 25ms/step - loss: 2.1853 - accuracy: 0.2532 - val_loss: 1.9217 - val_accuracy: 0.2919\n",
      "Epoch 2/10\n",
      "313/313 [==============================] - 7s 23ms/step - loss: 1.8047 - accuracy: 0.3521 - val_loss: 1.8234 - val_accuracy: 0.3422\n",
      "Epoch 3/10\n",
      "313/313 [==============================] - 7s 23ms/step - loss: 1.7080 - accuracy: 0.3892 - val_loss: 1.6833 - val_accuracy: 0.4006\n",
      "Epoch 4/10\n",
      "313/313 [==============================] - 7s 23ms/step - loss: 1.6449 - accuracy: 0.4138 - val_loss: 1.6438 - val_accuracy: 0.4131\n",
      "Epoch 5/10\n",
      "313/313 [==============================] - 7s 23ms/step - loss: 1.5959 - accuracy: 0.4280 - val_loss: 1.6031 - val_accuracy: 0.4335\n",
      "Epoch 6/10\n",
      "313/313 [==============================] - 7s 23ms/step - loss: 1.5538 - accuracy: 0.4486 - val_loss: 1.6185 - val_accuracy: 0.4252\n",
      "Epoch 7/10\n",
      "313/313 [==============================] - 7s 23ms/step - loss: 1.5189 - accuracy: 0.4596 - val_loss: 1.6274 - val_accuracy: 0.4276\n",
      "Epoch 8/10\n",
      "313/313 [==============================] - 7s 23ms/step - loss: 1.4871 - accuracy: 0.4703 - val_loss: 1.5923 - val_accuracy: 0.4323\n",
      "Epoch 9/10\n",
      "313/313 [==============================] - 7s 23ms/step - loss: 1.4587 - accuracy: 0.4804 - val_loss: 1.6520 - val_accuracy: 0.4212\n",
      "Epoch 10/10\n",
      "313/313 [==============================] - 7s 23ms/step - loss: 1.4333 - accuracy: 0.4890 - val_loss: 1.5448 - val_accuracy: 0.4521\n",
      "313/313 [==============================] - 1s 3ms/step - loss: 1.5316 - accuracy: 0.4532\n"
     ]
    },
    {
     "name": "stderr",
     "output_type": "stream",
     "text": [
      "WARNING:absl:`lr` is deprecated in Keras optimizer, please use `learning_rate` or use the legacy optimizer, e.g.,tf.keras.optimizers.legacy.RMSprop.\n"
     ]
    },
    {
     "name": "stdout",
     "output_type": "stream",
     "text": [
      "RMSprop, 0.01, Test Acc: 0.45320001244544983\n",
      "Epoch 1/10\n",
      "313/313 [==============================] - 10s 29ms/step - loss: 2.1670 - accuracy: 0.2489 - val_loss: 1.9343 - val_accuracy: 0.2890\n",
      "Epoch 2/10\n",
      "313/313 [==============================] - 8s 24ms/step - loss: 1.8087 - accuracy: 0.3492 - val_loss: 1.7495 - val_accuracy: 0.3742\n",
      "Epoch 3/10\n",
      "313/313 [==============================] - 7s 23ms/step - loss: 1.7131 - accuracy: 0.3829 - val_loss: 1.6700 - val_accuracy: 0.4047\n",
      "Epoch 4/10\n",
      "313/313 [==============================] - 9s 28ms/step - loss: 1.6449 - accuracy: 0.4120 - val_loss: 1.6463 - val_accuracy: 0.4121\n",
      "Epoch 5/10\n",
      "313/313 [==============================] - 8s 25ms/step - loss: 1.5953 - accuracy: 0.4275 - val_loss: 1.6975 - val_accuracy: 0.3979\n",
      "Epoch 6/10\n",
      "313/313 [==============================] - 7s 22ms/step - loss: 1.5565 - accuracy: 0.4431 - val_loss: 1.6750 - val_accuracy: 0.3996\n",
      "Epoch 7/10\n",
      "313/313 [==============================] - 7s 23ms/step - loss: 1.5216 - accuracy: 0.4591 - val_loss: 1.5817 - val_accuracy: 0.4324\n",
      "Epoch 8/10\n",
      "313/313 [==============================] - 7s 22ms/step - loss: 1.4930 - accuracy: 0.4681 - val_loss: 1.5574 - val_accuracy: 0.4437\n",
      "Epoch 9/10\n",
      "313/313 [==============================] - 7s 22ms/step - loss: 1.4607 - accuracy: 0.4804 - val_loss: 1.6287 - val_accuracy: 0.4206\n",
      "Epoch 10/10\n",
      "313/313 [==============================] - 7s 23ms/step - loss: 1.4318 - accuracy: 0.4902 - val_loss: 1.6455 - val_accuracy: 0.4156\n",
      "313/313 [==============================] - 1s 3ms/step - loss: 1.6361 - accuracy: 0.4175\n",
      "RMSprop, 0.1, Test Acc: 0.41749998927116394\n"
     ]
    }
   ],
   "source": [
    "import tensorflow as tf\n",
    "from tensorflow.keras.datasets import cifar10\n",
    "from tensorflow.keras.models import Sequential\n",
    "from tensorflow.keras.layers import Flatten, Dense\n",
    "from tensorflow.keras.optimizers import SGD, Adam, RMSprop\n",
    "from tensorflow.keras.utils import to_categorical\n",
    "\n",
    "# Load CIFAR-10 dataset\n",
    "(train_X, train_y), (test_X, test_y) = cifar10.load_data()\n",
    "\n",
    "# Preprocess data\n",
    "train_X = train_X.astype('float32') / 255\n",
    "test_X = test_X.astype('float32') / 255\n",
    "\n",
    "train_y = to_categorical(train_y)\n",
    "test_y = to_categorical(test_y)\n",
    "\n",
    "# Define MLP architecture\n",
    "def create_model():\n",
    "    model = Sequential([\n",
    "        Flatten(input_shape=(32, 32, 3)),\n",
    "        Dense(512, activation='relu'),\n",
    "        Dense(256, activation='relu'),\n",
    "        Dense(10, activation='softmax')\n",
    "    ])\n",
    "    return model\n",
    "\n",
    "# Experiment with different learning rates\n",
    "lrs = [0.001, 0.01, 0.1]\n",
    "opts = [SGD, Adam, RMSprop]\n",
    "\n",
    "for opt in opts:\n",
    "    for lr in lrs:\n",
    "        model = create_model()\n",
    "        model.compile(optimizer=opt(lr=lr),\n",
    "                      loss='categorical_crossentropy',\n",
    "                      metrics=['accuracy'])\n",
    "        hist = model.fit(train_X, train_y, epochs=10, batch_size=128, validation_split=0.2)\n",
    "        loss, acc = model.evaluate(test_X, test_y)\n",
    "        print(f\"{opt.__name__}, {lr}, Test Acc: {acc}\")\n",
    "\n",
    "# Analyze generalization gap\n",
    "# Compare training and test accuracies for each model\n"
   ]
  },
  {
   "cell_type": "code",
   "execution_count": null,
   "metadata": {},
   "outputs": [],
   "source": []
  }
 ],
 "metadata": {
  "kernelspec": {
   "display_name": "Python 3",
   "language": "python",
   "name": "python3"
  },
  "language_info": {
   "codemirror_mode": {
    "name": "ipython",
    "version": 3
   },
   "file_extension": ".py",
   "mimetype": "text/x-python",
   "name": "python",
   "nbconvert_exporter": "python",
   "pygments_lexer": "ipython3",
   "version": "3.10.4"
  }
 },
 "nbformat": 4,
 "nbformat_minor": 2
}
