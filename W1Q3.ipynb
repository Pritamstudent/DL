{
 "cells": [
  {
   "cell_type": "code",
   "execution_count": 1,
   "id": "5d5545bb-142f-475d-bacf-8733e4b29073",
   "metadata": {},
   "outputs": [],
   "source": [
    "import numpy as np\n",
    "import pandas as pd"
   ]
  },
  {
   "cell_type": "code",
   "execution_count": 2,
   "id": "e0208983-c831-4bbc-af26-d2375d508f17",
   "metadata": {},
   "outputs": [
    {
     "data": {
      "text/plain": [
       "{'age': array([52, 39, 59, 33, 31, 52, 57, 58, 35, 37, 54, 56, 45, 58, 55, 54, 57,\n",
       "        56, 50, 41, 42, 31, 37, 43, 48, 51, 50, 58, 54, 48, 39, 58, 38, 51,\n",
       "        44, 48, 45, 42, 48, 52, 56, 56, 41, 36, 37, 54, 42, 39, 59, 43, 48,\n",
       "        42, 40, 52, 50, 34, 37, 42, 32, 47, 31, 43, 59, 53, 40, 45, 42, 57,\n",
       "        52, 33, 37, 54, 30, 43, 50, 30, 57, 51, 41, 55, 34, 47, 42, 58, 49,\n",
       "        60, 30, 49, 57, 32, 37, 31, 33, 48, 50, 51, 44, 36, 41, 44, 46, 31,\n",
       "        48, 51, 44, 33, 56, 55, 38, 40, 42, 34, 57, 43, 38, 58, 50, 59, 31,\n",
       "        46, 50, 42, 30, 38, 53, 47, 42, 58, 55, 60, 41, 59, 43, 55, 34, 53,\n",
       "        52, 39, 50, 40, 43, 47, 44, 45, 46, 42, 42, 36, 45, 60, 43, 42, 59,\n",
       "        51, 36, 41, 39, 56, 60, 60, 34, 60, 38, 38, 30, 31, 58, 40, 41, 51,\n",
       "        38, 56, 47, 31, 51, 54, 52, 60, 33, 41, 45, 37, 45, 51, 36, 33, 57,\n",
       "        60, 51, 54, 41, 54, 40, 35, 32, 38, 49, 51, 37, 52, 30, 53, 60, 36,\n",
       "        39, 59, 59, 60, 33, 36, 51, 35, 39, 35, 48, 47, 40, 32, 35, 56, 54,\n",
       "        36, 33, 46, 54, 59, 55, 54, 45, 56, 50, 51, 45, 41, 43, 48, 30, 39,\n",
       "        56, 56, 55, 58, 48, 60, 30, 45, 52, 59, 56, 39, 54, 39, 49, 31, 56,\n",
       "        50, 31, 56, 49, 58, 38, 47, 48, 50, 42, 48, 42, 46, 37, 39, 36, 51,\n",
       "        44, 56, 47, 39, 53, 40, 60, 44, 43, 49, 50, 54, 52, 30, 44, 39, 42,\n",
       "        46, 44, 49, 46, 31, 33, 32, 49, 37, 41, 39, 57, 53, 49, 57, 46, 37,\n",
       "        52, 58, 39, 43, 58, 32, 47, 41, 54, 50, 46, 58, 44, 40, 37, 34, 56,\n",
       "        30, 43, 32, 43, 43, 49, 46, 35, 34, 42, 57, 48, 52, 40, 34, 32, 47,\n",
       "        40, 37, 58, 60, 30, 58, 39, 41, 43, 39, 40, 31, 32, 54, 49, 55, 43,\n",
       "        57, 41, 38, 42, 57, 32, 36, 39, 41, 34, 30, 55, 33, 58, 59, 58, 34,\n",
       "        50, 53, 38, 30, 35, 32, 43, 36, 42, 44, 60, 42, 55, 36, 49, 45, 59,\n",
       "        56, 54, 52, 34, 54, 36, 44, 50, 58, 45, 34, 32, 56, 43, 50, 50, 47,\n",
       "        40, 42, 45, 53, 54, 52, 44, 53, 37, 46, 35, 50, 54, 35, 50, 49, 54,\n",
       "        43, 50, 59, 32, 43, 37, 38, 34, 36, 46, 60, 42, 40, 32, 46, 42, 46,\n",
       "        45, 48, 37, 50, 51, 47, 49, 55, 45, 48, 36, 33, 49, 32, 35, 41, 56,\n",
       "        57, 30, 43, 35, 53, 45, 47, 42, 47, 41, 39, 32, 40, 53, 47, 40, 41,\n",
       "        45, 33, 57, 45, 34, 45, 50, 30, 40, 39, 60, 54, 52, 41, 52, 50, 58,\n",
       "        49, 59, 41, 41, 35, 58, 41]),\n",
       " 'salary': array([425508, 107895, 324628, 265701, 159339, 275959,  87546, 386677,\n",
       "        180247, 199459, 187387, 337437, 346453, 256840, 463547, 267844,\n",
       "        144055, 187476,  69188, 306770, 283324, 355243, 322342, 318841,\n",
       "        364966, 122288, 432491, 201611, 198504, 291216, 286819, 382301,\n",
       "        475133, 467110,  99791, 140184, 341676, 347747, 489357, 366188,\n",
       "        480782, 254066, 453922, 179500, 440054,  62275,  81689, 180856,\n",
       "        229447, 220962,  85276, 237365, 127457, 497035, 288165, 310975,\n",
       "        444886,  64638,  78463, 183547, 124639, 311402, 498728, 444698,\n",
       "        174032, 256297, 117164, 458387, 405248, 350944, 379973,  75585,\n",
       "        154854, 261074, 424846, 145316, 158094, 128748, 201182, 464804,\n",
       "        318576,  98866, 191900, 400983, 168896, 241025, 348871, 252541,\n",
       "        399934,  73783, 442257, 334028,  68444, 162782, 418755, 381056,\n",
       "        201664, 435240, 446643, 107242,  98037, 391345, 336537, 381373,\n",
       "        481698, 271846, 323049, 220339, 130113, 193957, 172955,  73505,\n",
       "        296810,  86034, 429402, 210239, 248596, 270852, 257650,  81451,\n",
       "         77340, 136752,  54144, 217746, 202857, 385147, 278921, 408825,\n",
       "        394903, 119996, 246677, 188703, 190614,  84255, 357389, 309752,\n",
       "        118575, 224706, 273844, 128293, 197714, 302407, 499321, 142991,\n",
       "        147279,  85692, 329758, 379979, 215914, 163793, 207645, 278258,\n",
       "        474686, 444236, 131631,  50232, 173248, 487043, 493677,  80934,\n",
       "        143684, 207135, 483410, 231720, 235819, 287321, 416976, 147060,\n",
       "        314990, 106938, 474662, 411132,  81361, 203424, 217811, 213519,\n",
       "        253188, 354004, 159180, 125172, 139318, 253523, 113595, 427386,\n",
       "         94262, 150072, 129212, 463848, 434398, 286775, 384750, 485506,\n",
       "         98437, 377253, 399289, 381161, 307463, 436525, 291648,  91627,\n",
       "        233028, 349355, 332500,  54003, 343484, 150836, 308408, 283433,\n",
       "        297817, 486730, 475274, 391436, 118498,  57431, 433817, 465293,\n",
       "         52545, 107156, 286710, 386888, 274085, 337296, 289981, 119047,\n",
       "        491707, 157230, 442889,  74332, 306325, 311864, 133086, 425872,\n",
       "        441551, 150599, 119789, 128913, 101362, 326032, 296210, 405153,\n",
       "        363819, 421485, 450263, 358020, 140341, 306169, 105359, 190951,\n",
       "         71833, 367517, 307193, 123835, 484475, 286230, 467103, 399605,\n",
       "        472485, 398325, 253939, 453388, 148898, 431713, 436478, 358585,\n",
       "        229901, 482454, 284997, 131843,  68878, 245960, 166441,  98667,\n",
       "        396446, 275955, 277796, 230422, 220885, 291696, 118869, 114798,\n",
       "        242314, 219095, 130054, 402349, 207026, 114294, 137507, 309117,\n",
       "         98882, 398870,  50766, 464187, 489555, 306458, 281551, 413390,\n",
       "        489797, 400636, 308332,  86158,  98130, 250848,  57721, 249608,\n",
       "        185095, 147811, 251173, 384012, 325704, 452016, 438437, 273887,\n",
       "        347610, 358022, 343036, 260199, 215055, 210891, 362753, 246337,\n",
       "        296186, 214561, 176688, 185063, 259379, 269745, 291737, 133684,\n",
       "        180069, 258345, 346769, 263088, 479283,  72716, 488720, 485136,\n",
       "        475144, 443328, 480690, 393317, 387519, 490743, 256092, 141699,\n",
       "        264939, 149717, 434684, 262084, 212529, 492701, 229179, 235419,\n",
       "        366818, 247396,  95076, 456958, 300025, 484424, 283240, 141752,\n",
       "        236537, 273329, 382336, 232830, 130705, 212705, 406979, 392129,\n",
       "        352188, 107886, 478070, 366392,  99624, 464350, 312649, 267362,\n",
       "        161738, 238615, 289287,  95326, 462786, 136344, 368708, 177304,\n",
       "        252202,  56003, 339832, 358168, 143819, 167847, 258277, 269719,\n",
       "        235672,  55977,  69288,  62804, 499232, 371828, 318108, 275676,\n",
       "         86391,  92065,  94473, 370129,  87739, 355500, 158046, 338916,\n",
       "        212225, 416371, 162827, 321476, 297323, 400481,  82747, 412541,\n",
       "        374909, 322961, 315416, 481809, 100788,  66807, 343992, 487678,\n",
       "        139586, 472864, 252970, 360009, 116435, 216426, 385209, 392896,\n",
       "        268237, 144104,  90099, 479695, 370711, 137138, 346620, 391181,\n",
       "        174865,  71851, 412358, 134047, 249405, 414107, 345732, 387932,\n",
       "        191074, 177967, 489641, 240140, 287475, 389218, 180004, 267132,\n",
       "         92960, 219824, 498367, 147078, 280781, 476735, 406331, 466799,\n",
       "        119067, 209255, 341059, 166869, 458495, 296672,  57084, 498018,\n",
       "        309954, 184212,  82714, 258520, 132365, 128862, 277377, 449606,\n",
       "        478784, 190151, 158392, 339955, 199360, 244650, 422062, 444378,\n",
       "        387538, 295715, 273868, 195899, 139584, 294878, 303494, 201004,\n",
       "        431882,  66217, 130979, 125555]),\n",
       " 'num_members': array([ 2,  3,  2,  7, 10,  2,  4,  3, 10,  6,  9,  8,  5,  2,  2,  5,  5,\n",
       "         6, 10,  7,  6,  5, 10,  8,  2,  3,  4,  2,  9,  6, 10,  7,  8, 10,\n",
       "         6, 10,  7,  2,  7,  5,  8,  9,  6,  7,  8,  7,  7,  7,  7,  8,  7,\n",
       "         3,  6,  7,  9, 10,  4,  5,  3,  3,  3,  8,  8,  3,  9, 10,  4,  9,\n",
       "        10,  6,  7,  3,  6,  7,  2, 10,  5, 10,  9,  3,  3, 10,  4, 10, 10,\n",
       "         7,  8,  6,  3,  5,  7,  9,  4,  4,  7,  6,  8,  4,  9, 10,  6, 10,\n",
       "         4,  2,  8, 10,  8,  2,  3,  3,  9,  3,  9,  6,  6,  8,  8, 10,  3,\n",
       "        10,  3,  2, 10,  9,  2,  6,  9,  7,  6,  9,  9,  8,  3,  9,  4,  9,\n",
       "         5,  9,  4, 10,  9,  6,  4,  8,  3,  7,  7, 10, 10,  8,  3,  5,  2,\n",
       "         5,  9,  5, 10,  2,  9,  8,  3,  8,  8,  5,  7,  2,  3,  7,  9,  8,\n",
       "         3,  2,  5,  7,  8,  4,  5,  9,  9,  4, 10,  8,  4,  7,  6,  3,  5,\n",
       "         3,  9,  2,  4,  8,  3,  5,  7,  4,  3,  7, 10,  3,  6,  7,  7,  8,\n",
       "        10,  2,  9,  4,  3, 10,  4,  5,  7,  9, 10,  5,  4,  8,  2,  8,  6,\n",
       "         9,  6, 10,  6,  7,  3,  7,  7,  7,  4,  3,  9,  5,  4, 10,  2,  8,\n",
       "         2,  2,  9,  9, 10,  7,  7,  8,  8,  2,  6,  9,  3,  9,  8,  9,  3,\n",
       "         5, 10,  7,  4,  7,  4,  7,  5,  5, 10,  3, 10,  6,  4,  9,  2,  5,\n",
       "         4,  9,  6, 10,  9,  7,  6,  9,  5,  4,  8,  9,  6, 10,  5,  7,  3,\n",
       "         6,  3,  7,  8,  3, 10,  9,  2,  2,  3, 10,  3, 10, 10,  6, 10, 10,\n",
       "         5,  6, 10,  9,  4,  5,  2,  2,  9,  2,  5,  9,  4,  9,  3,  8,  5,\n",
       "         4,  2,  5,  9,  4,  7,  6,  7,  9,  5,  7,  3,  8, 10,  2,  8,  2,\n",
       "         3,  4,  2,  3,  8, 10,  4,  7,  3,  3,  7,  3,  4,  3,  3,  7,  3,\n",
       "         6,  2,  8,  9,  9,  5,  7,  8, 10,  3,  6,  2, 10,  9,  8,  4,  3,\n",
       "         3, 10,  6,  4,  7,  3,  4,  6,  2,  9,  8,  2,  5,  5,  3,  4,  5,\n",
       "         6,  3,  2,  3,  4,  4,  9,  9,  5,  5,  7,  7,  3,  2,  3,  7,  4,\n",
       "         7,  4,  8,  9,  8,  4, 10,  4,  9,  3,  3,  6,  2,  8,  9,  8, 10,\n",
       "         3,  8,  5, 10,  7,  8,  8,  6,  2, 10,  9,  6,  4,  9,  5, 10,  4,\n",
       "         6,  8,  4,  8,  2,  9,  8,  8,  6,  9,  7,  9,  6,  6,  8,  6,  8,\n",
       "         8,  3,  3,  9,  5,  2,  4,  3,  4,  4,  4,  3,  9,  3,  8,  6,  3,\n",
       "         9,  3,  6,  9,  5,  7,  5,  2,  6,  3,  2,  7,  6,  9, 10,  5,  4,\n",
       "         3,  9, 10,  7,  7,  6,  9]),\n",
       " 'buys_flat': array([1, 1, 1, 1, 0, 1, 0, 0, 1, 1, 1, 1, 0, 0, 1, 0, 0, 1, 0, 1, 0, 1,\n",
       "        0, 0, 1, 0, 0, 1, 0, 0, 1, 0, 0, 0, 1, 1, 0, 1, 0, 1, 1, 1, 1, 1,\n",
       "        0, 1, 1, 0, 1, 0, 0, 1, 1, 1, 1, 0, 0, 1, 0, 0, 0, 0, 1, 0, 0, 0,\n",
       "        1, 1, 1, 1, 1, 1, 0, 0, 0, 1, 0, 0, 1, 0, 1, 1, 0, 0, 0, 1, 0, 0,\n",
       "        0, 0, 0, 0, 1, 0, 1, 0, 1, 1, 1, 1, 1, 1, 1, 1, 0, 0, 0, 0, 1, 0,\n",
       "        0, 0, 0, 1, 1, 0, 0, 0, 1, 0, 0, 0, 1, 1, 1, 1, 1, 1, 1, 1, 0, 1,\n",
       "        0, 0, 1, 1, 0, 1, 0, 0, 0, 0, 0, 0, 0, 1, 0, 1, 0, 0, 1, 0, 0, 0,\n",
       "        0, 1, 0, 1, 1, 1, 1, 1, 1, 1, 1, 1, 0, 1, 1, 1, 0, 1, 1, 0, 1, 0,\n",
       "        1, 1, 1, 0, 0, 0, 1, 1, 1, 0, 1, 0, 1, 1, 0, 1, 1, 1, 0, 0, 0, 0,\n",
       "        0, 1, 1, 1, 1, 1, 1, 1, 1, 1, 0, 1, 1, 1, 0, 1, 1, 1, 1, 0, 1, 1,\n",
       "        1, 0, 1, 0, 0, 0, 1, 0, 1, 0, 1, 1, 0, 1, 1, 0, 0, 0, 1, 0, 0, 0,\n",
       "        1, 0, 0, 1, 0, 0, 1, 1, 0, 0, 1, 1, 0, 0, 1, 1, 1, 1, 0, 0, 0, 0,\n",
       "        1, 0, 1, 0, 1, 0, 0, 1, 1, 0, 0, 0, 0, 0, 1, 0, 0, 1, 1, 0, 0, 1,\n",
       "        0, 0, 1, 0, 1, 1, 1, 0, 1, 0, 1, 1, 1, 0, 1, 0, 1, 0, 0, 0, 1, 1,\n",
       "        0, 1, 1, 0, 1, 1, 0, 1, 0, 0, 1, 0, 0, 1, 1, 1, 1, 0, 1, 1, 1, 1,\n",
       "        0, 1, 1, 1, 1, 1, 1, 0, 1, 1, 1, 0, 1, 0, 0, 0, 1, 1, 1, 0, 1, 0,\n",
       "        0, 1, 1, 0, 0, 1, 0, 1, 1, 1, 0, 1, 0, 1, 0, 1, 0, 0, 0, 0, 1, 1,\n",
       "        0, 0, 0, 1, 1, 1, 0, 1, 0, 1, 0, 0, 0, 1, 1, 1, 1, 1, 0, 1, 0, 0,\n",
       "        0, 0, 1, 1, 1, 0, 1, 1, 0, 1, 0, 1, 0, 1, 0, 1, 1, 0, 1, 0, 0, 1,\n",
       "        1, 0, 0, 1, 1, 0, 0, 1, 1, 0, 1, 0, 1, 0, 1, 0, 1, 1, 1, 1, 0, 1,\n",
       "        0, 0, 1, 1, 0, 1, 0, 0, 0, 1, 0, 1, 0, 1, 1, 1, 0, 1, 0, 0, 0, 1,\n",
       "        0, 1, 0, 1, 1, 1, 0, 1, 1, 0, 1, 0, 1, 1, 0, 0, 0, 0, 1, 0, 0, 0,\n",
       "        1, 0, 0, 0, 1, 1, 0, 0, 1, 1, 0, 0, 0, 0, 1, 1])}"
      ]
     },
     "execution_count": 2,
     "metadata": {},
     "output_type": "execute_result"
    }
   ],
   "source": [
    "data = {\n",
    "    'age': np.random.randint(30, 61, 500),\n",
    "    'salary': np.random.randint(50000, 500001, 500),\n",
    "    'num_members': np.random.randint(2, 11, 500),\n",
    "    'buys_flat': np.random.choice([0, 1], 500)\n",
    "}\n",
    "data"
   ]
  },
  {
   "cell_type": "code",
   "execution_count": 3,
   "id": "7094f178-26fb-42e9-addc-d46f9529d27a",
   "metadata": {},
   "outputs": [
    {
     "data": {
      "text/html": [
       "<div>\n",
       "<style scoped>\n",
       "    .dataframe tbody tr th:only-of-type {\n",
       "        vertical-align: middle;\n",
       "    }\n",
       "\n",
       "    .dataframe tbody tr th {\n",
       "        vertical-align: top;\n",
       "    }\n",
       "\n",
       "    .dataframe thead th {\n",
       "        text-align: right;\n",
       "    }\n",
       "</style>\n",
       "<table border=\"1\" class=\"dataframe\">\n",
       "  <thead>\n",
       "    <tr style=\"text-align: right;\">\n",
       "      <th></th>\n",
       "      <th>age</th>\n",
       "      <th>salary</th>\n",
       "      <th>num_members</th>\n",
       "      <th>buys_flat</th>\n",
       "    </tr>\n",
       "  </thead>\n",
       "  <tbody>\n",
       "    <tr>\n",
       "      <th>0</th>\n",
       "      <td>52</td>\n",
       "      <td>425508</td>\n",
       "      <td>2</td>\n",
       "      <td>1</td>\n",
       "    </tr>\n",
       "    <tr>\n",
       "      <th>1</th>\n",
       "      <td>39</td>\n",
       "      <td>107895</td>\n",
       "      <td>3</td>\n",
       "      <td>1</td>\n",
       "    </tr>\n",
       "    <tr>\n",
       "      <th>2</th>\n",
       "      <td>59</td>\n",
       "      <td>324628</td>\n",
       "      <td>2</td>\n",
       "      <td>1</td>\n",
       "    </tr>\n",
       "    <tr>\n",
       "      <th>3</th>\n",
       "      <td>33</td>\n",
       "      <td>265701</td>\n",
       "      <td>7</td>\n",
       "      <td>1</td>\n",
       "    </tr>\n",
       "    <tr>\n",
       "      <th>4</th>\n",
       "      <td>31</td>\n",
       "      <td>159339</td>\n",
       "      <td>10</td>\n",
       "      <td>0</td>\n",
       "    </tr>\n",
       "    <tr>\n",
       "      <th>...</th>\n",
       "      <td>...</td>\n",
       "      <td>...</td>\n",
       "      <td>...</td>\n",
       "      <td>...</td>\n",
       "    </tr>\n",
       "    <tr>\n",
       "      <th>495</th>\n",
       "      <td>41</td>\n",
       "      <td>201004</td>\n",
       "      <td>10</td>\n",
       "      <td>0</td>\n",
       "    </tr>\n",
       "    <tr>\n",
       "      <th>496</th>\n",
       "      <td>41</td>\n",
       "      <td>431882</td>\n",
       "      <td>7</td>\n",
       "      <td>0</td>\n",
       "    </tr>\n",
       "    <tr>\n",
       "      <th>497</th>\n",
       "      <td>35</td>\n",
       "      <td>66217</td>\n",
       "      <td>7</td>\n",
       "      <td>0</td>\n",
       "    </tr>\n",
       "    <tr>\n",
       "      <th>498</th>\n",
       "      <td>58</td>\n",
       "      <td>130979</td>\n",
       "      <td>6</td>\n",
       "      <td>1</td>\n",
       "    </tr>\n",
       "    <tr>\n",
       "      <th>499</th>\n",
       "      <td>41</td>\n",
       "      <td>125555</td>\n",
       "      <td>9</td>\n",
       "      <td>1</td>\n",
       "    </tr>\n",
       "  </tbody>\n",
       "</table>\n",
       "<p>500 rows × 4 columns</p>\n",
       "</div>"
      ],
      "text/plain": [
       "     age  salary  num_members  buys_flat\n",
       "0     52  425508            2          1\n",
       "1     39  107895            3          1\n",
       "2     59  324628            2          1\n",
       "3     33  265701            7          1\n",
       "4     31  159339           10          0\n",
       "..   ...     ...          ...        ...\n",
       "495   41  201004           10          0\n",
       "496   41  431882            7          0\n",
       "497   35   66217            7          0\n",
       "498   58  130979            6          1\n",
       "499   41  125555            9          1\n",
       "\n",
       "[500 rows x 4 columns]"
      ]
     },
     "execution_count": 3,
     "metadata": {},
     "output_type": "execute_result"
    }
   ],
   "source": [
    "df = pd.DataFrame(data) \n",
    "df"
   ]
  },
  {
   "cell_type": "code",
   "execution_count": 4,
   "id": "be41d121-105e-410a-b97e-0598444c7c97",
   "metadata": {},
   "outputs": [
    {
     "data": {
      "text/html": [
       "<div>\n",
       "<style scoped>\n",
       "    .dataframe tbody tr th:only-of-type {\n",
       "        vertical-align: middle;\n",
       "    }\n",
       "\n",
       "    .dataframe tbody tr th {\n",
       "        vertical-align: top;\n",
       "    }\n",
       "\n",
       "    .dataframe thead th {\n",
       "        text-align: right;\n",
       "    }\n",
       "</style>\n",
       "<table border=\"1\" class=\"dataframe\">\n",
       "  <thead>\n",
       "    <tr style=\"text-align: right;\">\n",
       "      <th></th>\n",
       "      <th>age</th>\n",
       "      <th>salary</th>\n",
       "      <th>num_members</th>\n",
       "    </tr>\n",
       "  </thead>\n",
       "  <tbody>\n",
       "    <tr>\n",
       "      <th>0</th>\n",
       "      <td>52</td>\n",
       "      <td>425508</td>\n",
       "      <td>2</td>\n",
       "    </tr>\n",
       "    <tr>\n",
       "      <th>1</th>\n",
       "      <td>39</td>\n",
       "      <td>107895</td>\n",
       "      <td>3</td>\n",
       "    </tr>\n",
       "    <tr>\n",
       "      <th>2</th>\n",
       "      <td>59</td>\n",
       "      <td>324628</td>\n",
       "      <td>2</td>\n",
       "    </tr>\n",
       "    <tr>\n",
       "      <th>3</th>\n",
       "      <td>33</td>\n",
       "      <td>265701</td>\n",
       "      <td>7</td>\n",
       "    </tr>\n",
       "    <tr>\n",
       "      <th>4</th>\n",
       "      <td>31</td>\n",
       "      <td>159339</td>\n",
       "      <td>10</td>\n",
       "    </tr>\n",
       "    <tr>\n",
       "      <th>...</th>\n",
       "      <td>...</td>\n",
       "      <td>...</td>\n",
       "      <td>...</td>\n",
       "    </tr>\n",
       "    <tr>\n",
       "      <th>495</th>\n",
       "      <td>41</td>\n",
       "      <td>201004</td>\n",
       "      <td>10</td>\n",
       "    </tr>\n",
       "    <tr>\n",
       "      <th>496</th>\n",
       "      <td>41</td>\n",
       "      <td>431882</td>\n",
       "      <td>7</td>\n",
       "    </tr>\n",
       "    <tr>\n",
       "      <th>497</th>\n",
       "      <td>35</td>\n",
       "      <td>66217</td>\n",
       "      <td>7</td>\n",
       "    </tr>\n",
       "    <tr>\n",
       "      <th>498</th>\n",
       "      <td>58</td>\n",
       "      <td>130979</td>\n",
       "      <td>6</td>\n",
       "    </tr>\n",
       "    <tr>\n",
       "      <th>499</th>\n",
       "      <td>41</td>\n",
       "      <td>125555</td>\n",
       "      <td>9</td>\n",
       "    </tr>\n",
       "  </tbody>\n",
       "</table>\n",
       "<p>500 rows × 3 columns</p>\n",
       "</div>"
      ],
      "text/plain": [
       "     age  salary  num_members\n",
       "0     52  425508            2\n",
       "1     39  107895            3\n",
       "2     59  324628            2\n",
       "3     33  265701            7\n",
       "4     31  159339           10\n",
       "..   ...     ...          ...\n",
       "495   41  201004           10\n",
       "496   41  431882            7\n",
       "497   35   66217            7\n",
       "498   58  130979            6\n",
       "499   41  125555            9\n",
       "\n",
       "[500 rows x 3 columns]"
      ]
     },
     "execution_count": 4,
     "metadata": {},
     "output_type": "execute_result"
    }
   ],
   "source": [
    "x = df.drop('buys_flat', axis=1)  # All columns except 'buys_flat'\n",
    "y = df['buys_flat'] \n",
    "x"
   ]
  },
  {
   "cell_type": "code",
   "execution_count": 5,
   "id": "ecd20db6-5c19-4dbc-bea8-ffe164ecf7fb",
   "metadata": {},
   "outputs": [
    {
     "data": {
      "text/plain": [
       "0      1\n",
       "1      1\n",
       "2      1\n",
       "3      1\n",
       "4      0\n",
       "      ..\n",
       "495    0\n",
       "496    0\n",
       "497    0\n",
       "498    1\n",
       "499    1\n",
       "Name: buys_flat, Length: 500, dtype: int32"
      ]
     },
     "execution_count": 5,
     "metadata": {},
     "output_type": "execute_result"
    }
   ],
   "source": [
    "y"
   ]
  },
  {
   "cell_type": "code",
   "execution_count": 6,
   "id": "300f8d3c-8fa5-424f-9c0e-6ddbc8650063",
   "metadata": {},
   "outputs": [],
   "source": [
    "from sklearn.model_selection import train_test_split\n",
    "\n",
    "x_train , x_test , y_train , y_test = train_test_split(x , y , test_size = 0.3 , stratify = y , random_state = 1)"
   ]
  },
  {
   "cell_type": "code",
   "execution_count": 7,
   "id": "b6bb4842-31c7-4685-8e52-4463f19c8197",
   "metadata": {},
   "outputs": [
    {
     "name": "stdout",
     "output_type": "stream",
     "text": [
      "     age  salary  num_members\n",
      "234   43  119789            4\n",
      "208   33  297817            3\n",
      "191   54  485506            8\n",
      "339   47  393317            2\n",
      "470   32   57084            3\n",
      "..   ...     ...          ...\n",
      "131   59  188703            8\n",
      "176   52  253188            5\n",
      "105   33  271846           10\n",
      "123   38  217746            9\n",
      "280   43  242314            5\n",
      "\n",
      "[350 rows x 3 columns]\n",
      "     age  salary  num_members\n",
      "153   51  444236            5\n",
      "420   54  100788            2\n",
      "310   58  438437            4\n",
      "467   47  166869            4\n",
      "409   42  416371            4\n",
      "..   ...     ...          ...\n",
      "231   51  425872            3\n",
      "376   38  161738            6\n",
      "308   39  325704           10\n",
      "221   36  337296            9\n",
      "142   44  499321            4\n",
      "\n",
      "[150 rows x 3 columns]\n",
      "234    1\n",
      "208    0\n",
      "191    1\n",
      "339    1\n",
      "470    1\n",
      "      ..\n",
      "131    1\n",
      "176    1\n",
      "105    0\n",
      "123    1\n",
      "280    0\n",
      "Name: buys_flat, Length: 350, dtype: int32\n",
      "153    0\n",
      "420    0\n",
      "310    1\n",
      "467    1\n",
      "409    1\n",
      "      ..\n",
      "231    1\n",
      "376    0\n",
      "308    0\n",
      "221    0\n",
      "142    0\n",
      "Name: buys_flat, Length: 150, dtype: int32\n"
     ]
    }
   ],
   "source": [
    "print(x_train)\n",
    "print(x_test)\n",
    "print(y_train)\n",
    "print(y_test)"
   ]
  },
  {
   "cell_type": "code",
   "execution_count": 8,
   "id": "e8b9a6d5-a4d7-43b3-be5a-5ad1bd6b8357",
   "metadata": {},
   "outputs": [],
   "source": [
    "import matplotlib.pyplot as plt"
   ]
  },
  {
   "cell_type": "code",
   "execution_count": 9,
   "id": "0d5529a9-b28a-4e3b-82be-d063d4f863d7",
   "metadata": {},
   "outputs": [
    {
     "data": {
      "text/plain": [
       "234    0\n",
       "208    1\n",
       "191    1\n",
       "339    1\n",
       "470    0\n",
       "      ..\n",
       "131    0\n",
       "176    0\n",
       "105    0\n",
       "123    0\n",
       "280    0\n",
       "Name: salary, Length: 350, dtype: int64"
      ]
     },
     "execution_count": 9,
     "metadata": {},
     "output_type": "execute_result"
    }
   ],
   "source": [
    "sal_mean = x_train['salary'].mean()\n",
    "age_mean = x_train['age'].mean()\n",
    "num_mean = x_train['num_members'].mean()\n",
    "x_train['salary'].map(lambda x: 0 if x < sal_mean else 1)"
   ]
  },
  {
   "cell_type": "code",
   "execution_count": 10,
   "id": "d5e46bcc-aa7c-4c42-ad3c-8ec95b8da53d",
   "metadata": {},
   "outputs": [
    {
     "data": {
      "text/plain": [
       "234    0\n",
       "208    0\n",
       "191    1\n",
       "339    1\n",
       "470    0\n",
       "      ..\n",
       "131    1\n",
       "176    1\n",
       "105    0\n",
       "123    0\n",
       "280    0\n",
       "Name: age, Length: 350, dtype: int64"
      ]
     },
     "execution_count": 10,
     "metadata": {},
     "output_type": "execute_result"
    }
   ],
   "source": [
    "x_train['age'].map(lambda x:0 if x < age_mean else 1 )"
   ]
  },
  {
   "cell_type": "code",
   "execution_count": 11,
   "id": "6ef3d549-f059-41ef-b028-2d1366e11387",
   "metadata": {},
   "outputs": [
    {
     "data": {
      "text/plain": [
       "234    0\n",
       "208    0\n",
       "191    1\n",
       "339    0\n",
       "470    0\n",
       "      ..\n",
       "131    1\n",
       "176    0\n",
       "105    1\n",
       "123    1\n",
       "280    0\n",
       "Name: num_members, Length: 350, dtype: int64"
      ]
     },
     "execution_count": 11,
     "metadata": {},
     "output_type": "execute_result"
    }
   ],
   "source": [
    "x_train['num_members'].map(lambda x:0 if x < num_mean else  1)"
   ]
  },
  {
   "cell_type": "code",
   "execution_count": 13,
   "id": "1e8c5424-f311-4acb-984a-7072a06fde8f",
   "metadata": {},
   "outputs": [
    {
     "data": {
      "image/png": "[encoded data removed]",
      "text/plain": [
       "<Figure size 640x480 with 1 Axes>"
      ]
     },
     "metadata": {},
     "output_type": "display_data"
    }
   ],
   "source": [
    "x_binarised_test = x_test.apply(pd.cut, bins=2, labels=[1,0])\n",
    "x_binarised_train = x_train.apply(pd.cut, bins=2, labels=[1,0])\n",
    "type(x_binarised_train)\n",
    "\n",
    "plt.plot(x_binarised_test, '*')\n",
    "plt.xticks(rotation='vertical')\n",
    "plt.show()"
   ]
  },
  {
   "cell_type": "code",
   "execution_count": 14,
   "id": "39945963-3921-44e0-a114-629aa0693bf1",
   "metadata": {},
   "outputs": [
    {
     "data": {
      "image/png": "[encoded data removed]",
      "text/plain": [
       "<Figure size 640x480 with 1 Axes>"
      ]
     },
     "metadata": {},
     "output_type": "display_data"
    }
   ],
   "source": [
    "plt.plot(x_binarised_train, '*')\n",
    "plt.xticks(rotation='vertical')\n",
    "plt.show()"
   ]
  },
  {
   "cell_type": "code",
   "execution_count": 15,
   "id": "ebeaff54-d9db-4c1c-92c6-b8cf21b6371d",
   "metadata": {},
   "outputs": [],
   "source": [
    "x_binarised_test = x_binarised_test.values\n",
    "x_binarised_train = x_binarised_train.values"
   ]
  },
  {
   "cell_type": "code",
   "execution_count": 16,
   "id": "a325f5ce-a685-4222-94cd-78ac55395f61",
   "metadata": {},
   "outputs": [
    {
     "data": {
      "text/plain": [
       "numpy.ndarray"
      ]
     },
     "execution_count": 16,
     "metadata": {},
     "output_type": "execute_result"
    }
   ],
   "source": [
    "type(x_binarised_train)"
   ]
  },
  {
   "cell_type": "code",
   "execution_count": 17,
   "id": "fa2210ad-8131-4af6-abb4-497375d0eff8",
   "metadata": {},
   "outputs": [],
   "source": [
    "from random import randint\n",
    "b = randint(0,3)\n",
    "from sklearn.metrics import accuracy_score , confusion_matrix"
   ]
  },
  {
   "cell_type": "code",
   "execution_count": 18,
   "id": "2a498965-f4e7-4cb7-a78a-38ebbbeabd7c",
   "metadata": {},
   "outputs": [
    {
     "name": "stdout",
     "output_type": "stream",
     "text": [
      "1 0.54\n"
     ]
    }
   ],
   "source": [
    "y_pred_test = []\n",
    "\n",
    "for x in x_binarised_test:\n",
    "  y_pred = (np.sum(x) >= b)\n",
    "  y_pred_test.append(y_pred)\n",
    "\n",
    "accuracy = accuracy_score(y_pred_test, y_test)\n",
    "\n",
    "print(b, accuracy) "
   ]
  },
  {
   "cell_type": "code",
   "execution_count": 19,
   "id": "eb8c2d5b-07b0-41e0-97ce-a3b2084ac3f4",
   "metadata": {},
   "outputs": [
    {
     "name": "stdout",
     "output_type": "stream",
     "text": [
      "170 0.4857142857142857\n"
     ]
    }
   ],
   "source": [
    "y_pred_train = []\n",
    "accurate_rows = 0\n",
    "\n",
    "for x, y in zip(x_binarised_train, y_train):\n",
    "  y_pred = (np.sum(x) >= b)\n",
    "  y_pred_train.append(y_pred)\n",
    "  accurate_rows += (y == y_pred)\n",
    "  \n",
    "print(accurate_rows, accurate_rows/x_binarised_train.shape[0])"
   ]
  },
  {
   "cell_type": "code",
   "execution_count": 20,
   "id": "a1c5a85a-fa67-498c-9e1e-e2e1f620647c",
   "metadata": {},
   "outputs": [],
   "source": [
    "class MPNeuron:\n",
    "  \n",
    "  def __init__(self):\n",
    "    self.b = None\n",
    "    \n",
    "  def model(self, x):\n",
    "    return(sum(x) >= self.b)\n",
    "  \n",
    "  def predict(self, X):\n",
    "    Y = []\n",
    "    for x in X:\n",
    "      result = self.model(x)\n",
    "      Y.append(result)\n",
    "    return np.array(Y)\n",
    "  \n",
    "  def fit(self, X, Y):\n",
    "    accuracy = {}\n",
    "    \n",
    "    for b in range(X.shape[1] + 1):\n",
    "      self.b = b\n",
    "      Y_pred = self.predict(X)\n",
    "      accuracy[b] = accuracy_score(Y_pred, Y)\n",
    "      \n",
    "    best_b = max(accuracy, key = accuracy.get)\n",
    "    self.b = best_b\n",
    "    \n",
    "    print('Optimal value of b is', best_b)\n",
    "    print('Highest accuracy is', accuracy[best_b])"
   ]
  },
  {
   "cell_type": "code",
   "execution_count": 21,
   "id": "2d56e48e-81d0-488d-8260-272ca78f7b1a",
   "metadata": {},
   "outputs": [
    {
     "name": "stdout",
     "output_type": "stream",
     "text": [
      "Optimal value of b is 0\n",
      "Highest accuracy is 0.5228571428571429\n"
     ]
    }
   ],
   "source": [
    "mp_neuron = MPNeuron()\n",
    "mp_neuron.fit(x_binarised_train, y_train)"
   ]
  },
  {
   "cell_type": "code",
   "execution_count": 22,
   "id": "b5c3e9be-ddf9-4788-94cc-ff77be7b6c60",
   "metadata": {},
   "outputs": [
    {
     "data": {
      "text/plain": [
       "array([[ 0,  0],\n",
       "       [72, 78]], dtype=int64)"
      ]
     },
     "execution_count": 22,
     "metadata": {},
     "output_type": "execute_result"
    }
   ],
   "source": [
    "y_test_pred = mp_neuron.predict(x_binarised_test)\n",
    "accuracy_test = accuracy_score(y_test_pred, y_test)\n",
    "cm = confusion_matrix(y_test_pred,y_test)\n",
    "cm"
   ]
  },
  {
   "cell_type": "code",
   "execution_count": 23,
   "id": "b274559d-2e02-428e-8691-3f37f59f3f09",
   "metadata": {},
   "outputs": [
    {
     "name": "stdout",
     "output_type": "stream",
     "text": [
      "0.52\n"
     ]
    }
   ],
   "source": [
    "print(accuracy_test)"
   ]
  },
  {
   "cell_type": "code",
   "execution_count": null,
   "id": "b33c7aec-63ec-47b9-ad9a-ee3da39b76d2",
   "metadata": {},
   "outputs": [],
   "source": []
  }
 ],
 "metadata": {
  "kernelspec": {
   "display_name": "Python 3 (ipykernel)",
   "language": "python",
   "name": "python3"
  },
  "language_info": {
   "codemirror_mode": {
    "name": "ipython",
    "version": 3
   },
   "file_extension": ".py",
   "mimetype": "text/x-python",
   "name": "python",
   "nbconvert_exporter": "python",
   "pygments_lexer": "ipython3",
   "version": "3.11.5"
  }
 },
 "nbformat": 4,
 "nbformat_minor": 5
}
